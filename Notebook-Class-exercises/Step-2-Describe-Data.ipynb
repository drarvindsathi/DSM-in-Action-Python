{
 "cells": [
  {
   "cell_type": "markdown",
   "metadata": {},
   "source": [
    "# Step 2 - Describe Data \n",
    "\n",
    "This notebook provides the Python code for opening Covid Total Cases file and computing descriptive statistics.  \n",
    "\n",
    "Students will be developing a similar notebook for total deaths.  The corresponding notebook is included in the answer section."
   ]
  },
  {
   "cell_type": "markdown",
   "metadata": {},
   "source": [
    "#  \t\tImport Libraries"
   ]
  },
  {
   "cell_type": "code",
   "execution_count": 1,
   "metadata": {
    "id": "QaE-s9NJ7sN0"
   },
   "outputs": [],
   "source": [
    "import os\n",
    "import pandas as pd\n",
    "import numpy as np"
   ]
  },
  {
   "cell_type": "markdown",
   "metadata": {},
   "source": [
    "# Set Input Folder\n",
    "\n",
    "Depending on the Operating System you are using the file access may differ. \n",
    "Choose your operating system by setting its value to True and keep the rest False"
   ]
  },
  {
   "cell_type": "code",
   "execution_count": 2,
   "metadata": {
    "id": "hTkQIxRvNiAa"
   },
   "outputs": [],
   "source": [
    "using_Google_colab = False\n",
    "using_Anaconda_on_Mac_or_Linux_or_Azure = True\n",
    "using_Anaconda_on_windows = False"
   ]
  },
  {
   "cell_type": "code",
   "execution_count": 3,
   "metadata": {
    "colab": {
     "base_uri": "https://localhost:8080/"
    },
    "id": "fG3aEVuBNiAb",
    "outputId": "9edcb0b7-9535-4544-e89c-969764c1395b"
   },
   "outputs": [],
   "source": [
    "if using_Google_colab:\n",
    "    from google.colab import drive\n",
    "    drive.mount('/content/drive')"
   ]
  },
  {
   "cell_type": "code",
   "execution_count": 4,
   "metadata": {},
   "outputs": [],
   "source": [
    "if using_Google_colab:\n",
    "    dir_input = \"/content/drive/MyDrive/COVID_Project/input\"\n",
    "if using_Anaconda_on_Mac_or_Linux_or_Azure:\n",
    "    dir_input = \"../input\"\n",
    "if using_Anaconda_on_windows:\n",
    "    dir_input = r\"..\\input\"   "
   ]
  },
  {
   "cell_type": "markdown",
   "metadata": {
    "id": "u_RYRljtNiAb"
   },
   "source": [
    "#  \t\tQ 2-2 Open USA Facts Data Source and list data sets"
   ]
  },
  {
   "cell_type": "code",
   "execution_count": 5,
   "metadata": {},
   "outputs": [
    {
     "data": {
      "text/plain": [
       "'../input/USA_Facts'"
      ]
     },
     "execution_count": 5,
     "metadata": {},
     "output_type": "execute_result"
    }
   ],
   "source": [
    "path_USA_Facts = os.path.join(dir_input, \"USA_Facts\")\n",
    "path_USA_Facts"
   ]
  },
  {
   "cell_type": "code",
   "execution_count": 6,
   "metadata": {
    "colab": {
     "base_uri": "https://localhost:8080/"
    },
    "id": "ij0vcXtTNiAb",
    "outputId": "3df9b763-bcfa-4f68-be21-fafc668a5a7f"
   },
   "outputs": [
    {
     "data": {
      "text/plain": [
       "['covid_deaths_usafacts.csv',\n",
       " 'covid_county_population_usafacts.csv',\n",
       " 'COVID19_CDC_Vaccination_CSV_Download.csv',\n",
       " 'covid_confirmed_usafacts.csv',\n",
       " 'unemployment_rate_usafacts.csv']"
      ]
     },
     "execution_count": 6,
     "metadata": {},
     "output_type": "execute_result"
    }
   ],
   "source": [
    "files_USA_Facts = os.listdir(os.path.join(dir_input, \"USA_Facts\"))\n",
    "files_USA_Facts"
   ]
  },
  {
   "cell_type": "markdown",
   "metadata": {
    "id": "73C2x8lTNiAc"
   },
   "source": [
    "# Q 2-2 Understand number of files included in this data source"
   ]
  },
  {
   "cell_type": "code",
   "execution_count": 7,
   "metadata": {
    "colab": {
     "base_uri": "https://localhost:8080/"
    },
    "id": "y_sHCiV8NiAc",
    "outputId": "dd64bc8e-aea1-4a1c-9af6-ccd63f04a8ff"
   },
   "outputs": [
    {
     "data": {
      "text/plain": [
       "5"
      ]
     },
     "execution_count": 7,
     "metadata": {},
     "output_type": "execute_result"
    }
   ],
   "source": [
    "len(files_USA_Facts)"
   ]
  },
  {
   "cell_type": "markdown",
   "metadata": {
    "id": "jeo6wl5_NiAf"
   },
   "source": [
    "#  Q 2-3 Open “covid_confirmed_usafacts” dataset file from USA Facts Data Source"
   ]
  },
  {
   "cell_type": "code",
   "execution_count": 8,
   "metadata": {},
   "outputs": [
    {
     "data": {
      "text/plain": [
       "'../input/USA_Facts/covid_confirmed_usafacts'"
      ]
     },
     "execution_count": 8,
     "metadata": {},
     "output_type": "execute_result"
    }
   ],
   "source": [
    "path_USA_Facts = os.path.join(dir_input, \"USA_Facts\", \"covid_confirmed_usafacts\")\n",
    "path_USA_Facts"
   ]
  },
  {
   "cell_type": "code",
   "execution_count": 9,
   "metadata": {
    "colab": {
     "base_uri": "https://localhost:8080/",
     "height": 626
    },
    "id": "ihdz63WWNiAg",
    "outputId": "94af4472-fab0-44ab-d36a-aebe79c1b339"
   },
   "outputs": [],
   "source": [
    "df_covid_confirmed = pd.read_csv(os.path.join(dir_input, \"USA_Facts\", \"covid_confirmed_usafacts.csv\"))"
   ]
  },
  {
   "cell_type": "markdown",
   "metadata": {
    "id": "ua7etraMNiAg"
   },
   "source": [
    "# Q 2-3\tReview fields included in this  Data Set - “covid_confirmed_usafacts” "
   ]
  },
  {
   "cell_type": "code",
   "execution_count": 10,
   "metadata": {
    "colab": {
     "base_uri": "https://localhost:8080/"
    },
    "id": "vUAFOFwKNiAg",
    "outputId": "3513a77c-edaa-48c0-c89e-d15eea07d722"
   },
   "outputs": [
    {
     "data": {
      "text/plain": [
       "Index(['countyFIPS', 'County Name', 'State', 'StateFIPS', '2020-01-22',\n",
       "       '2020-01-23', '2020-01-24', '2020-01-25', '2020-01-26', '2020-01-27',\n",
       "       ...\n",
       "       '2022-01-18', '2022-01-19', '2022-01-20', '2022-01-21', '2022-01-22',\n",
       "       '2022-01-23', '2022-01-24', '2022-01-25', '2022-01-26', '2022-01-27'],\n",
       "      dtype='object', length=741)"
      ]
     },
     "execution_count": 10,
     "metadata": {},
     "output_type": "execute_result"
    }
   ],
   "source": [
    "df_covid_confirmed.columns"
   ]
  },
  {
   "cell_type": "markdown",
   "metadata": {
    "id": "tRZ8qr8MNiAg"
   },
   "source": [
    "# Q 2-3\tFind number of rows and columns in this  Data Set - “covid_confirmed_usafacts” "
   ]
  },
  {
   "cell_type": "code",
   "execution_count": 11,
   "metadata": {
    "colab": {
     "base_uri": "https://localhost:8080/"
    },
    "id": "nOlga55hNiAh",
    "outputId": "a923a521-b58e-436f-c9b2-1a10be514828"
   },
   "outputs": [
    {
     "data": {
      "text/plain": [
       "(3193, 741)"
      ]
     },
     "execution_count": 11,
     "metadata": {},
     "output_type": "execute_result"
    }
   ],
   "source": [
    "df_covid_confirmed.shape\n"
   ]
  },
  {
   "cell_type": "markdown",
   "metadata": {
    "id": "43Q6o4pTNiAh"
   },
   "source": [
    "# Q 2-3 Sample data contents included in “covid_confirmed_usafacts” dataset"
   ]
  },
  {
   "cell_type": "code",
   "execution_count": 12,
   "metadata": {
    "colab": {
     "base_uri": "https://localhost:8080/",
     "height": 626
    },
    "id": "SjGSYvkWNiAi",
    "outputId": "058b91f6-77c7-4d40-d591-cb8dce883b44"
   },
   "outputs": [
    {
     "data": {
      "text/html": [
       "<div>\n",
       "<style scoped>\n",
       "    .dataframe tbody tr th:only-of-type {\n",
       "        vertical-align: middle;\n",
       "    }\n",
       "\n",
       "    .dataframe tbody tr th {\n",
       "        vertical-align: top;\n",
       "    }\n",
       "\n",
       "    .dataframe thead th {\n",
       "        text-align: right;\n",
       "    }\n",
       "</style>\n",
       "<table border=\"1\" class=\"dataframe\">\n",
       "  <thead>\n",
       "    <tr style=\"text-align: right;\">\n",
       "      <th></th>\n",
       "      <th>countyFIPS</th>\n",
       "      <th>County Name</th>\n",
       "      <th>State</th>\n",
       "      <th>StateFIPS</th>\n",
       "      <th>2020-01-22</th>\n",
       "      <th>2020-01-23</th>\n",
       "      <th>2020-01-24</th>\n",
       "      <th>2020-01-25</th>\n",
       "      <th>2020-01-26</th>\n",
       "      <th>2020-01-27</th>\n",
       "      <th>...</th>\n",
       "      <th>2022-01-18</th>\n",
       "      <th>2022-01-19</th>\n",
       "      <th>2022-01-20</th>\n",
       "      <th>2022-01-21</th>\n",
       "      <th>2022-01-22</th>\n",
       "      <th>2022-01-23</th>\n",
       "      <th>2022-01-24</th>\n",
       "      <th>2022-01-25</th>\n",
       "      <th>2022-01-26</th>\n",
       "      <th>2022-01-27</th>\n",
       "    </tr>\n",
       "  </thead>\n",
       "  <tbody>\n",
       "    <tr>\n",
       "      <th>0</th>\n",
       "      <td>0</td>\n",
       "      <td>Statewide Unallocated</td>\n",
       "      <td>AL</td>\n",
       "      <td>1</td>\n",
       "      <td>0</td>\n",
       "      <td>0</td>\n",
       "      <td>0</td>\n",
       "      <td>0</td>\n",
       "      <td>0</td>\n",
       "      <td>0</td>\n",
       "      <td>...</td>\n",
       "      <td>0</td>\n",
       "      <td>0</td>\n",
       "      <td>0</td>\n",
       "      <td>0</td>\n",
       "      <td>0</td>\n",
       "      <td>0</td>\n",
       "      <td>0</td>\n",
       "      <td>0</td>\n",
       "      <td>0</td>\n",
       "      <td>0</td>\n",
       "    </tr>\n",
       "    <tr>\n",
       "      <th>1</th>\n",
       "      <td>1001</td>\n",
       "      <td>Autauga County</td>\n",
       "      <td>AL</td>\n",
       "      <td>1</td>\n",
       "      <td>0</td>\n",
       "      <td>0</td>\n",
       "      <td>0</td>\n",
       "      <td>0</td>\n",
       "      <td>0</td>\n",
       "      <td>0</td>\n",
       "      <td>...</td>\n",
       "      <td>12738</td>\n",
       "      <td>12833</td>\n",
       "      <td>12928</td>\n",
       "      <td>13019</td>\n",
       "      <td>13019</td>\n",
       "      <td>13019</td>\n",
       "      <td>13251</td>\n",
       "      <td>13251</td>\n",
       "      <td>13251</td>\n",
       "      <td>13251</td>\n",
       "    </tr>\n",
       "    <tr>\n",
       "      <th>2</th>\n",
       "      <td>1003</td>\n",
       "      <td>Baldwin County</td>\n",
       "      <td>AL</td>\n",
       "      <td>1</td>\n",
       "      <td>0</td>\n",
       "      <td>0</td>\n",
       "      <td>0</td>\n",
       "      <td>0</td>\n",
       "      <td>0</td>\n",
       "      <td>0</td>\n",
       "      <td>...</td>\n",
       "      <td>47143</td>\n",
       "      <td>47662</td>\n",
       "      <td>48338</td>\n",
       "      <td>49168</td>\n",
       "      <td>49168</td>\n",
       "      <td>49168</td>\n",
       "      <td>50313</td>\n",
       "      <td>50313</td>\n",
       "      <td>50313</td>\n",
       "      <td>50313</td>\n",
       "    </tr>\n",
       "    <tr>\n",
       "      <th>3</th>\n",
       "      <td>1005</td>\n",
       "      <td>Barbour County</td>\n",
       "      <td>AL</td>\n",
       "      <td>1</td>\n",
       "      <td>0</td>\n",
       "      <td>0</td>\n",
       "      <td>0</td>\n",
       "      <td>0</td>\n",
       "      <td>0</td>\n",
       "      <td>0</td>\n",
       "      <td>...</td>\n",
       "      <td>4741</td>\n",
       "      <td>4800</td>\n",
       "      <td>4843</td>\n",
       "      <td>4902</td>\n",
       "      <td>4902</td>\n",
       "      <td>4902</td>\n",
       "      <td>5054</td>\n",
       "      <td>5054</td>\n",
       "      <td>5054</td>\n",
       "      <td>5054</td>\n",
       "    </tr>\n",
       "    <tr>\n",
       "      <th>4</th>\n",
       "      <td>1007</td>\n",
       "      <td>Bibb County</td>\n",
       "      <td>AL</td>\n",
       "      <td>1</td>\n",
       "      <td>0</td>\n",
       "      <td>0</td>\n",
       "      <td>0</td>\n",
       "      <td>0</td>\n",
       "      <td>0</td>\n",
       "      <td>0</td>\n",
       "      <td>...</td>\n",
       "      <td>5385</td>\n",
       "      <td>5486</td>\n",
       "      <td>5565</td>\n",
       "      <td>5663</td>\n",
       "      <td>5663</td>\n",
       "      <td>5663</td>\n",
       "      <td>5795</td>\n",
       "      <td>5795</td>\n",
       "      <td>5795</td>\n",
       "      <td>5795</td>\n",
       "    </tr>\n",
       "    <tr>\n",
       "      <th>...</th>\n",
       "      <td>...</td>\n",
       "      <td>...</td>\n",
       "      <td>...</td>\n",
       "      <td>...</td>\n",
       "      <td>...</td>\n",
       "      <td>...</td>\n",
       "      <td>...</td>\n",
       "      <td>...</td>\n",
       "      <td>...</td>\n",
       "      <td>...</td>\n",
       "      <td>...</td>\n",
       "      <td>...</td>\n",
       "      <td>...</td>\n",
       "      <td>...</td>\n",
       "      <td>...</td>\n",
       "      <td>...</td>\n",
       "      <td>...</td>\n",
       "      <td>...</td>\n",
       "      <td>...</td>\n",
       "      <td>...</td>\n",
       "      <td>...</td>\n",
       "    </tr>\n",
       "    <tr>\n",
       "      <th>3188</th>\n",
       "      <td>56037</td>\n",
       "      <td>Sweetwater County</td>\n",
       "      <td>WY</td>\n",
       "      <td>56</td>\n",
       "      <td>0</td>\n",
       "      <td>0</td>\n",
       "      <td>0</td>\n",
       "      <td>0</td>\n",
       "      <td>0</td>\n",
       "      <td>0</td>\n",
       "      <td>...</td>\n",
       "      <td>9082</td>\n",
       "      <td>9184</td>\n",
       "      <td>9241</td>\n",
       "      <td>9449</td>\n",
       "      <td>9449</td>\n",
       "      <td>9449</td>\n",
       "      <td>9609</td>\n",
       "      <td>9712</td>\n",
       "      <td>9810</td>\n",
       "      <td>10007</td>\n",
       "    </tr>\n",
       "    <tr>\n",
       "      <th>3189</th>\n",
       "      <td>56039</td>\n",
       "      <td>Teton County</td>\n",
       "      <td>WY</td>\n",
       "      <td>56</td>\n",
       "      <td>0</td>\n",
       "      <td>0</td>\n",
       "      <td>0</td>\n",
       "      <td>0</td>\n",
       "      <td>0</td>\n",
       "      <td>0</td>\n",
       "      <td>...</td>\n",
       "      <td>8531</td>\n",
       "      <td>8638</td>\n",
       "      <td>8741</td>\n",
       "      <td>8814</td>\n",
       "      <td>8814</td>\n",
       "      <td>8814</td>\n",
       "      <td>8960</td>\n",
       "      <td>9049</td>\n",
       "      <td>9121</td>\n",
       "      <td>9195</td>\n",
       "    </tr>\n",
       "    <tr>\n",
       "      <th>3190</th>\n",
       "      <td>56041</td>\n",
       "      <td>Uinta County</td>\n",
       "      <td>WY</td>\n",
       "      <td>56</td>\n",
       "      <td>0</td>\n",
       "      <td>0</td>\n",
       "      <td>0</td>\n",
       "      <td>0</td>\n",
       "      <td>0</td>\n",
       "      <td>0</td>\n",
       "      <td>...</td>\n",
       "      <td>4660</td>\n",
       "      <td>4751</td>\n",
       "      <td>4827</td>\n",
       "      <td>4927</td>\n",
       "      <td>4927</td>\n",
       "      <td>4927</td>\n",
       "      <td>5034</td>\n",
       "      <td>5081</td>\n",
       "      <td>5167</td>\n",
       "      <td>5222</td>\n",
       "    </tr>\n",
       "    <tr>\n",
       "      <th>3191</th>\n",
       "      <td>56043</td>\n",
       "      <td>Washakie County</td>\n",
       "      <td>WY</td>\n",
       "      <td>56</td>\n",
       "      <td>0</td>\n",
       "      <td>0</td>\n",
       "      <td>0</td>\n",
       "      <td>0</td>\n",
       "      <td>0</td>\n",
       "      <td>0</td>\n",
       "      <td>...</td>\n",
       "      <td>1994</td>\n",
       "      <td>2002</td>\n",
       "      <td>2023</td>\n",
       "      <td>2025</td>\n",
       "      <td>2025</td>\n",
       "      <td>2025</td>\n",
       "      <td>2041</td>\n",
       "      <td>2066</td>\n",
       "      <td>2093</td>\n",
       "      <td>2130</td>\n",
       "    </tr>\n",
       "    <tr>\n",
       "      <th>3192</th>\n",
       "      <td>56045</td>\n",
       "      <td>Weston County</td>\n",
       "      <td>WY</td>\n",
       "      <td>56</td>\n",
       "      <td>0</td>\n",
       "      <td>0</td>\n",
       "      <td>0</td>\n",
       "      <td>0</td>\n",
       "      <td>0</td>\n",
       "      <td>0</td>\n",
       "      <td>...</td>\n",
       "      <td>1315</td>\n",
       "      <td>1332</td>\n",
       "      <td>1341</td>\n",
       "      <td>1349</td>\n",
       "      <td>1349</td>\n",
       "      <td>1349</td>\n",
       "      <td>1369</td>\n",
       "      <td>1387</td>\n",
       "      <td>1408</td>\n",
       "      <td>1426</td>\n",
       "    </tr>\n",
       "  </tbody>\n",
       "</table>\n",
       "<p>3193 rows × 741 columns</p>\n",
       "</div>"
      ],
      "text/plain": [
       "      countyFIPS            County Name State  StateFIPS  2020-01-22  \\\n",
       "0              0  Statewide Unallocated    AL          1           0   \n",
       "1           1001        Autauga County     AL          1           0   \n",
       "2           1003        Baldwin County     AL          1           0   \n",
       "3           1005        Barbour County     AL          1           0   \n",
       "4           1007           Bibb County     AL          1           0   \n",
       "...          ...                    ...   ...        ...         ...   \n",
       "3188       56037     Sweetwater County     WY         56           0   \n",
       "3189       56039          Teton County     WY         56           0   \n",
       "3190       56041          Uinta County     WY         56           0   \n",
       "3191       56043       Washakie County     WY         56           0   \n",
       "3192       56045         Weston County     WY         56           0   \n",
       "\n",
       "      2020-01-23  2020-01-24  2020-01-25  2020-01-26  2020-01-27  ...  \\\n",
       "0              0           0           0           0           0  ...   \n",
       "1              0           0           0           0           0  ...   \n",
       "2              0           0           0           0           0  ...   \n",
       "3              0           0           0           0           0  ...   \n",
       "4              0           0           0           0           0  ...   \n",
       "...          ...         ...         ...         ...         ...  ...   \n",
       "3188           0           0           0           0           0  ...   \n",
       "3189           0           0           0           0           0  ...   \n",
       "3190           0           0           0           0           0  ...   \n",
       "3191           0           0           0           0           0  ...   \n",
       "3192           0           0           0           0           0  ...   \n",
       "\n",
       "      2022-01-18  2022-01-19  2022-01-20  2022-01-21  2022-01-22  2022-01-23  \\\n",
       "0              0           0           0           0           0           0   \n",
       "1          12738       12833       12928       13019       13019       13019   \n",
       "2          47143       47662       48338       49168       49168       49168   \n",
       "3           4741        4800        4843        4902        4902        4902   \n",
       "4           5385        5486        5565        5663        5663        5663   \n",
       "...          ...         ...         ...         ...         ...         ...   \n",
       "3188        9082        9184        9241        9449        9449        9449   \n",
       "3189        8531        8638        8741        8814        8814        8814   \n",
       "3190        4660        4751        4827        4927        4927        4927   \n",
       "3191        1994        2002        2023        2025        2025        2025   \n",
       "3192        1315        1332        1341        1349        1349        1349   \n",
       "\n",
       "      2022-01-24  2022-01-25  2022-01-26  2022-01-27  \n",
       "0              0           0           0           0  \n",
       "1          13251       13251       13251       13251  \n",
       "2          50313       50313       50313       50313  \n",
       "3           5054        5054        5054        5054  \n",
       "4           5795        5795        5795        5795  \n",
       "...          ...         ...         ...         ...  \n",
       "3188        9609        9712        9810       10007  \n",
       "3189        8960        9049        9121        9195  \n",
       "3190        5034        5081        5167        5222  \n",
       "3191        2041        2066        2093        2130  \n",
       "3192        1369        1387        1408        1426  \n",
       "\n",
       "[3193 rows x 741 columns]"
      ]
     },
     "execution_count": 12,
     "metadata": {},
     "output_type": "execute_result"
    }
   ],
   "source": [
    "df_covid_confirmed"
   ]
  },
  {
   "cell_type": "markdown",
   "metadata": {
    "id": "lJVTkxBSNiAi"
   },
   "source": [
    "# Q 2-4 Determine basic statistics on “covid_confirmed_usafacts” dataset file from USA Facts Data Source"
   ]
  },
  {
   "cell_type": "code",
   "execution_count": 13,
   "metadata": {
    "colab": {
     "base_uri": "https://localhost:8080/",
     "height": 346
    },
    "id": "LWau04y0NiAi",
    "outputId": "9246e7f2-7b4e-4edc-a2a0-012c46dd0109"
   },
   "outputs": [
    {
     "data": {
      "text/html": [
       "<div>\n",
       "<style scoped>\n",
       "    .dataframe tbody tr th:only-of-type {\n",
       "        vertical-align: middle;\n",
       "    }\n",
       "\n",
       "    .dataframe tbody tr th {\n",
       "        vertical-align: top;\n",
       "    }\n",
       "\n",
       "    .dataframe thead th {\n",
       "        text-align: right;\n",
       "    }\n",
       "</style>\n",
       "<table border=\"1\" class=\"dataframe\">\n",
       "  <thead>\n",
       "    <tr style=\"text-align: right;\">\n",
       "      <th></th>\n",
       "      <th>countyFIPS</th>\n",
       "      <th>StateFIPS</th>\n",
       "      <th>2020-01-22</th>\n",
       "      <th>2020-01-23</th>\n",
       "      <th>2020-01-24</th>\n",
       "      <th>2020-01-25</th>\n",
       "      <th>2020-01-26</th>\n",
       "      <th>2020-01-27</th>\n",
       "      <th>2020-01-28</th>\n",
       "      <th>2020-01-29</th>\n",
       "      <th>...</th>\n",
       "      <th>2022-01-18</th>\n",
       "      <th>2022-01-19</th>\n",
       "      <th>2022-01-20</th>\n",
       "      <th>2022-01-21</th>\n",
       "      <th>2022-01-22</th>\n",
       "      <th>2022-01-23</th>\n",
       "      <th>2022-01-24</th>\n",
       "      <th>2022-01-25</th>\n",
       "      <th>2022-01-26</th>\n",
       "      <th>2022-01-27</th>\n",
       "    </tr>\n",
       "  </thead>\n",
       "  <tbody>\n",
       "    <tr>\n",
       "      <th>count</th>\n",
       "      <td>3193.000000</td>\n",
       "      <td>3193.000000</td>\n",
       "      <td>3193.000000</td>\n",
       "      <td>3193.000000</td>\n",
       "      <td>3193.000000</td>\n",
       "      <td>3193.000000</td>\n",
       "      <td>3193.000000</td>\n",
       "      <td>3193.000000</td>\n",
       "      <td>3193.000000</td>\n",
       "      <td>3193.000000</td>\n",
       "      <td>...</td>\n",
       "      <td>3.193000e+03</td>\n",
       "      <td>3.193000e+03</td>\n",
       "      <td>3.193000e+03</td>\n",
       "      <td>3.193000e+03</td>\n",
       "      <td>3.193000e+03</td>\n",
       "      <td>3.193000e+03</td>\n",
       "      <td>3.193000e+03</td>\n",
       "      <td>3.193000e+03</td>\n",
       "      <td>3.193000e+03</td>\n",
       "      <td>3.193000e+03</td>\n",
       "    </tr>\n",
       "    <tr>\n",
       "      <th>mean</th>\n",
       "      <td>29898.348262</td>\n",
       "      <td>30.259004</td>\n",
       "      <td>0.226433</td>\n",
       "      <td>0.229878</td>\n",
       "      <td>0.232070</td>\n",
       "      <td>0.235202</td>\n",
       "      <td>0.237707</td>\n",
       "      <td>0.240839</td>\n",
       "      <td>0.242718</td>\n",
       "      <td>0.243971</td>\n",
       "      <td>...</td>\n",
       "      <td>2.082903e+04</td>\n",
       "      <td>2.116264e+04</td>\n",
       "      <td>2.135600e+04</td>\n",
       "      <td>2.155696e+04</td>\n",
       "      <td>2.164071e+04</td>\n",
       "      <td>2.172185e+04</td>\n",
       "      <td>2.203408e+04</td>\n",
       "      <td>2.216489e+04</td>\n",
       "      <td>2.237660e+04</td>\n",
       "      <td>2.249489e+04</td>\n",
       "    </tr>\n",
       "    <tr>\n",
       "      <th>std</th>\n",
       "      <td>15515.884232</td>\n",
       "      <td>15.153897</td>\n",
       "      <td>6.899731</td>\n",
       "      <td>6.977750</td>\n",
       "      <td>7.031192</td>\n",
       "      <td>7.075284</td>\n",
       "      <td>7.096643</td>\n",
       "      <td>7.160000</td>\n",
       "      <td>7.199078</td>\n",
       "      <td>7.220848</td>\n",
       "      <td>...</td>\n",
       "      <td>7.133025e+04</td>\n",
       "      <td>7.255180e+04</td>\n",
       "      <td>7.314986e+04</td>\n",
       "      <td>7.392526e+04</td>\n",
       "      <td>7.425559e+04</td>\n",
       "      <td>7.483399e+04</td>\n",
       "      <td>7.560179e+04</td>\n",
       "      <td>7.597433e+04</td>\n",
       "      <td>7.632530e+04</td>\n",
       "      <td>7.651686e+04</td>\n",
       "    </tr>\n",
       "    <tr>\n",
       "      <th>min</th>\n",
       "      <td>0.000000</td>\n",
       "      <td>1.000000</td>\n",
       "      <td>0.000000</td>\n",
       "      <td>0.000000</td>\n",
       "      <td>0.000000</td>\n",
       "      <td>0.000000</td>\n",
       "      <td>0.000000</td>\n",
       "      <td>0.000000</td>\n",
       "      <td>0.000000</td>\n",
       "      <td>0.000000</td>\n",
       "      <td>...</td>\n",
       "      <td>0.000000e+00</td>\n",
       "      <td>0.000000e+00</td>\n",
       "      <td>0.000000e+00</td>\n",
       "      <td>0.000000e+00</td>\n",
       "      <td>0.000000e+00</td>\n",
       "      <td>0.000000e+00</td>\n",
       "      <td>0.000000e+00</td>\n",
       "      <td>0.000000e+00</td>\n",
       "      <td>0.000000e+00</td>\n",
       "      <td>0.000000e+00</td>\n",
       "    </tr>\n",
       "    <tr>\n",
       "      <th>25%</th>\n",
       "      <td>18101.000000</td>\n",
       "      <td>18.000000</td>\n",
       "      <td>0.000000</td>\n",
       "      <td>0.000000</td>\n",
       "      <td>0.000000</td>\n",
       "      <td>0.000000</td>\n",
       "      <td>0.000000</td>\n",
       "      <td>0.000000</td>\n",
       "      <td>0.000000</td>\n",
       "      <td>0.000000</td>\n",
       "      <td>...</td>\n",
       "      <td>2.013000e+03</td>\n",
       "      <td>2.066000e+03</td>\n",
       "      <td>2.081000e+03</td>\n",
       "      <td>2.108000e+03</td>\n",
       "      <td>2.108000e+03</td>\n",
       "      <td>2.108000e+03</td>\n",
       "      <td>2.141000e+03</td>\n",
       "      <td>2.149000e+03</td>\n",
       "      <td>2.199000e+03</td>\n",
       "      <td>2.204000e+03</td>\n",
       "    </tr>\n",
       "    <tr>\n",
       "      <th>50%</th>\n",
       "      <td>29125.000000</td>\n",
       "      <td>29.000000</td>\n",
       "      <td>0.000000</td>\n",
       "      <td>0.000000</td>\n",
       "      <td>0.000000</td>\n",
       "      <td>0.000000</td>\n",
       "      <td>0.000000</td>\n",
       "      <td>0.000000</td>\n",
       "      <td>0.000000</td>\n",
       "      <td>0.000000</td>\n",
       "      <td>...</td>\n",
       "      <td>5.107000e+03</td>\n",
       "      <td>5.227000e+03</td>\n",
       "      <td>5.285000e+03</td>\n",
       "      <td>5.339000e+03</td>\n",
       "      <td>5.359000e+03</td>\n",
       "      <td>5.363000e+03</td>\n",
       "      <td>5.459000e+03</td>\n",
       "      <td>5.492000e+03</td>\n",
       "      <td>5.561000e+03</td>\n",
       "      <td>5.604000e+03</td>\n",
       "    </tr>\n",
       "    <tr>\n",
       "      <th>75%</th>\n",
       "      <td>45055.000000</td>\n",
       "      <td>45.000000</td>\n",
       "      <td>0.000000</td>\n",
       "      <td>0.000000</td>\n",
       "      <td>0.000000</td>\n",
       "      <td>0.000000</td>\n",
       "      <td>0.000000</td>\n",
       "      <td>0.000000</td>\n",
       "      <td>0.000000</td>\n",
       "      <td>0.000000</td>\n",
       "      <td>...</td>\n",
       "      <td>1.346700e+04</td>\n",
       "      <td>1.379900e+04</td>\n",
       "      <td>1.391500e+04</td>\n",
       "      <td>1.408000e+04</td>\n",
       "      <td>1.417200e+04</td>\n",
       "      <td>1.424400e+04</td>\n",
       "      <td>1.437100e+04</td>\n",
       "      <td>1.452800e+04</td>\n",
       "      <td>1.471100e+04</td>\n",
       "      <td>1.476900e+04</td>\n",
       "    </tr>\n",
       "    <tr>\n",
       "      <th>max</th>\n",
       "      <td>56045.000000</td>\n",
       "      <td>56.000000</td>\n",
       "      <td>375.000000</td>\n",
       "      <td>379.000000</td>\n",
       "      <td>382.000000</td>\n",
       "      <td>384.000000</td>\n",
       "      <td>385.000000</td>\n",
       "      <td>388.000000</td>\n",
       "      <td>390.000000</td>\n",
       "      <td>391.000000</td>\n",
       "      <td>...</td>\n",
       "      <td>2.276388e+06</td>\n",
       "      <td>2.343261e+06</td>\n",
       "      <td>2.367401e+06</td>\n",
       "      <td>2.384427e+06</td>\n",
       "      <td>2.390482e+06</td>\n",
       "      <td>2.430653e+06</td>\n",
       "      <td>2.453693e+06</td>\n",
       "      <td>2.468026e+06</td>\n",
       "      <td>2.472960e+06</td>\n",
       "      <td>2.473095e+06</td>\n",
       "    </tr>\n",
       "  </tbody>\n",
       "</table>\n",
       "<p>8 rows × 739 columns</p>\n",
       "</div>"
      ],
      "text/plain": [
       "         countyFIPS    StateFIPS   2020-01-22   2020-01-23   2020-01-24  \\\n",
       "count   3193.000000  3193.000000  3193.000000  3193.000000  3193.000000   \n",
       "mean   29898.348262    30.259004     0.226433     0.229878     0.232070   \n",
       "std    15515.884232    15.153897     6.899731     6.977750     7.031192   \n",
       "min        0.000000     1.000000     0.000000     0.000000     0.000000   \n",
       "25%    18101.000000    18.000000     0.000000     0.000000     0.000000   \n",
       "50%    29125.000000    29.000000     0.000000     0.000000     0.000000   \n",
       "75%    45055.000000    45.000000     0.000000     0.000000     0.000000   \n",
       "max    56045.000000    56.000000   375.000000   379.000000   382.000000   \n",
       "\n",
       "        2020-01-25   2020-01-26   2020-01-27   2020-01-28   2020-01-29  ...  \\\n",
       "count  3193.000000  3193.000000  3193.000000  3193.000000  3193.000000  ...   \n",
       "mean      0.235202     0.237707     0.240839     0.242718     0.243971  ...   \n",
       "std       7.075284     7.096643     7.160000     7.199078     7.220848  ...   \n",
       "min       0.000000     0.000000     0.000000     0.000000     0.000000  ...   \n",
       "25%       0.000000     0.000000     0.000000     0.000000     0.000000  ...   \n",
       "50%       0.000000     0.000000     0.000000     0.000000     0.000000  ...   \n",
       "75%       0.000000     0.000000     0.000000     0.000000     0.000000  ...   \n",
       "max     384.000000   385.000000   388.000000   390.000000   391.000000  ...   \n",
       "\n",
       "         2022-01-18    2022-01-19    2022-01-20    2022-01-21    2022-01-22  \\\n",
       "count  3.193000e+03  3.193000e+03  3.193000e+03  3.193000e+03  3.193000e+03   \n",
       "mean   2.082903e+04  2.116264e+04  2.135600e+04  2.155696e+04  2.164071e+04   \n",
       "std    7.133025e+04  7.255180e+04  7.314986e+04  7.392526e+04  7.425559e+04   \n",
       "min    0.000000e+00  0.000000e+00  0.000000e+00  0.000000e+00  0.000000e+00   \n",
       "25%    2.013000e+03  2.066000e+03  2.081000e+03  2.108000e+03  2.108000e+03   \n",
       "50%    5.107000e+03  5.227000e+03  5.285000e+03  5.339000e+03  5.359000e+03   \n",
       "75%    1.346700e+04  1.379900e+04  1.391500e+04  1.408000e+04  1.417200e+04   \n",
       "max    2.276388e+06  2.343261e+06  2.367401e+06  2.384427e+06  2.390482e+06   \n",
       "\n",
       "         2022-01-23    2022-01-24    2022-01-25    2022-01-26    2022-01-27  \n",
       "count  3.193000e+03  3.193000e+03  3.193000e+03  3.193000e+03  3.193000e+03  \n",
       "mean   2.172185e+04  2.203408e+04  2.216489e+04  2.237660e+04  2.249489e+04  \n",
       "std    7.483399e+04  7.560179e+04  7.597433e+04  7.632530e+04  7.651686e+04  \n",
       "min    0.000000e+00  0.000000e+00  0.000000e+00  0.000000e+00  0.000000e+00  \n",
       "25%    2.108000e+03  2.141000e+03  2.149000e+03  2.199000e+03  2.204000e+03  \n",
       "50%    5.363000e+03  5.459000e+03  5.492000e+03  5.561000e+03  5.604000e+03  \n",
       "75%    1.424400e+04  1.437100e+04  1.452800e+04  1.471100e+04  1.476900e+04  \n",
       "max    2.430653e+06  2.453693e+06  2.468026e+06  2.472960e+06  2.473095e+06  \n",
       "\n",
       "[8 rows x 739 columns]"
      ]
     },
     "execution_count": 13,
     "metadata": {},
     "output_type": "execute_result"
    }
   ],
   "source": [
    "df_covid_confirmed.describe()"
   ]
  },
  {
   "cell_type": "code",
   "execution_count": 14,
   "metadata": {},
   "outputs": [
    {
     "data": {
      "text/html": [
       "<div>\n",
       "<style scoped>\n",
       "    .dataframe tbody tr th:only-of-type {\n",
       "        vertical-align: middle;\n",
       "    }\n",
       "\n",
       "    .dataframe tbody tr th {\n",
       "        vertical-align: top;\n",
       "    }\n",
       "\n",
       "    .dataframe thead th {\n",
       "        text-align: right;\n",
       "    }\n",
       "</style>\n",
       "<table border=\"1\" class=\"dataframe\">\n",
       "  <thead>\n",
       "    <tr style=\"text-align: right;\">\n",
       "      <th></th>\n",
       "      <th>2020-12-18</th>\n",
       "      <th>2020-12-19</th>\n",
       "      <th>2020-12-20</th>\n",
       "    </tr>\n",
       "  </thead>\n",
       "  <tbody>\n",
       "    <tr>\n",
       "      <th>count</th>\n",
       "      <td>3193.00000</td>\n",
       "      <td>3193.000000</td>\n",
       "      <td>3193.000000</td>\n",
       "    </tr>\n",
       "    <tr>\n",
       "      <th>mean</th>\n",
       "      <td>5471.10523</td>\n",
       "      <td>5538.622612</td>\n",
       "      <td>5589.872534</td>\n",
       "    </tr>\n",
       "    <tr>\n",
       "      <th>std</th>\n",
       "      <td>19381.24075</td>\n",
       "      <td>19685.512575</td>\n",
       "      <td>19918.522676</td>\n",
       "    </tr>\n",
       "    <tr>\n",
       "      <th>min</th>\n",
       "      <td>0.00000</td>\n",
       "      <td>0.000000</td>\n",
       "      <td>0.000000</td>\n",
       "    </tr>\n",
       "    <tr>\n",
       "      <th>25%</th>\n",
       "      <td>571.00000</td>\n",
       "      <td>579.000000</td>\n",
       "      <td>586.000000</td>\n",
       "    </tr>\n",
       "    <tr>\n",
       "      <th>50%</th>\n",
       "      <td>1388.00000</td>\n",
       "      <td>1406.000000</td>\n",
       "      <td>1416.000000</td>\n",
       "    </tr>\n",
       "    <tr>\n",
       "      <th>75%</th>\n",
       "      <td>3672.00000</td>\n",
       "      <td>3708.000000</td>\n",
       "      <td>3730.000000</td>\n",
       "    </tr>\n",
       "    <tr>\n",
       "      <th>max</th>\n",
       "      <td>640412.00000</td>\n",
       "      <td>655974.000000</td>\n",
       "      <td>668041.000000</td>\n",
       "    </tr>\n",
       "  </tbody>\n",
       "</table>\n",
       "</div>"
      ],
      "text/plain": [
       "         2020-12-18     2020-12-19     2020-12-20\n",
       "count    3193.00000    3193.000000    3193.000000\n",
       "mean     5471.10523    5538.622612    5589.872534\n",
       "std     19381.24075   19685.512575   19918.522676\n",
       "min         0.00000       0.000000       0.000000\n",
       "25%       571.00000     579.000000     586.000000\n",
       "50%      1388.00000    1406.000000    1416.000000\n",
       "75%      3672.00000    3708.000000    3730.000000\n",
       "max    640412.00000  655974.000000  668041.000000"
      ]
     },
     "execution_count": 14,
     "metadata": {},
     "output_type": "execute_result"
    }
   ],
   "source": [
    "df_covid_confirmed.describe()[['2020-12-18', '2020-12-19', '2020-12-20']]"
   ]
  },
  {
   "cell_type": "code",
   "execution_count": null,
   "metadata": {},
   "outputs": [],
   "source": []
  }
 ],
 "metadata": {
  "colab": {
   "collapsed_sections": [],
   "name": "Step-2-Describe-Data.ipynb",
   "provenance": [],
   "toc_visible": true
  },
  "kernelspec": {
   "display_name": "Python 3 (ipykernel)",
   "language": "python",
   "name": "python3"
  },
  "language_info": {
   "codemirror_mode": {
    "name": "ipython",
    "version": 3
   },
   "file_extension": ".py",
   "mimetype": "text/x-python",
   "name": "python",
   "nbconvert_exporter": "python",
   "pygments_lexer": "ipython3",
   "version": "3.9.7"
  }
 },
 "nbformat": 4,
 "nbformat_minor": 1
}
