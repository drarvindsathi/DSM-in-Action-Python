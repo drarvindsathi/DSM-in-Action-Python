{
 "cells": [
  {
   "cell_type": "markdown",
   "metadata": {
    "id": "j4z4qJtsUBU8"
   },
   "source": [
    "## Step 5 - Evaluate Model - Task 2. Evaluate Classification Model \n"
   ]
  },
  {
   "cell_type": "markdown",
   "metadata": {
    "id": "YD2eurJLwsKZ"
   },
   "source": [
    "###Load Libraries\n"
   ]
  },
  {
   "cell_type": "code",
   "execution_count": 1,
   "metadata": {
    "colab": {
     "base_uri": "https://localhost:8080/"
    },
    "id": "d1LEHtf75kyo",
    "outputId": "13ef8a21-67e5-4f8d-f020-014fc1bde1e2"
   },
   "outputs": [
    {
     "name": "stdout",
     "output_type": "stream",
     "text": [
      "Requirement already up-to-date: sklearn in /usr/local/lib/python3.7/dist-packages (0.0)\n",
      "Requirement already satisfied, skipping upgrade: scikit-learn in /usr/local/lib/python3.7/dist-packages (from sklearn) (0.22.2.post1)\n",
      "Requirement already satisfied, skipping upgrade: joblib>=0.11 in /usr/local/lib/python3.7/dist-packages (from scikit-learn->sklearn) (1.0.1)\n",
      "Requirement already satisfied, skipping upgrade: numpy>=1.11.0 in /usr/local/lib/python3.7/dist-packages (from scikit-learn->sklearn) (1.19.5)\n",
      "Requirement already satisfied, skipping upgrade: scipy>=0.17.0 in /usr/local/lib/python3.7/dist-packages (from scikit-learn->sklearn) (1.4.1)\n"
     ]
    }
   ],
   "source": [
    "!pip install sklearn --upgrade"
   ]
  },
  {
   "cell_type": "code",
   "execution_count": 2,
   "metadata": {
    "id": "anaC9xn4Wxeu"
   },
   "outputs": [],
   "source": [
    "import pandas as pd\n",
    "import numpy as np\n",
    "\n",
    "from datetime import date\n",
    "from datetime import timedelta\n",
    "\n",
    "import matplotlib.pyplot as plt\n",
    "\n",
    "from sklearn import preprocessing\n",
    "\n",
    "from sklearn.model_selection import train_test_split \n",
    "from sklearn.tree import DecisionTreeClassifier\n",
    "from sklearn import tree\n",
    "from sklearn.metrics import accuracy_score\n",
    "\n",
    "from sklearn import metrics\n",
    "from sklearn.metrics import confusion_matrix\n",
    "from sklearn import tree\n",
    "from sklearn.metrics import precision_score\n",
    "from sklearn.metrics import recall_score\n",
    "\n",
    "import warnings\n",
    "warnings.filterwarnings('ignore')\n",
    "\n",
    "%matplotlib inline"
   ]
  },
  {
   "cell_type": "markdown",
   "metadata": {
    "id": "WoaZXloIw1SD"
   },
   "source": [
    "### Set up environment and connect to Google Drive"
   ]
  },
  {
   "cell_type": "code",
   "execution_count": 5,
   "metadata": {
    "id": "bvWqc03VWxe1"
   },
   "outputs": [],
   "source": [
    "using_Google_colab = True\n",
    "using_Anaconda_on_Mac_or_Linux = False\n",
    "using_Anaconda_on_windows = False"
   ]
  },
  {
   "cell_type": "code",
   "execution_count": 6,
   "metadata": {
    "colab": {
     "base_uri": "https://localhost:8080/"
    },
    "id": "-FVWcMQxWxe2",
    "outputId": "1b3c9319-c7ef-4fec-ec80-884af2e66674"
   },
   "outputs": [
    {
     "name": "stdout",
     "output_type": "stream",
     "text": [
      "Mounted at /content/drive\n"
     ]
    }
   ],
   "source": [
    "if using_Google_colab:\n",
    "    from google.colab import drive\n",
    "    drive.mount('/content/drive')"
   ]
  },
  {
   "cell_type": "markdown",
   "metadata": {
    "id": "ViZtIDouUBVB"
   },
   "source": [
    "## EM2.1 Open Notebook, upload the interim pre-processed data from step 5 for LA county - Activity 1\n"
   ]
  },
  {
   "cell_type": "markdown",
   "metadata": {
    "id": "dLiLqxI0w9UO"
   },
   "source": [
    "### Upload intermediate classification modeling data for LA County\n",
    "(see Step-4-Develop-Model-Task-4-Classification notebook for details)"
   ]
  },
  {
   "cell_type": "code",
   "execution_count": 7,
   "metadata": {
    "colab": {
     "base_uri": "https://localhost:8080/",
     "height": 518
    },
    "id": "MZTiuZsmWxe2",
    "outputId": "8e5861b6-031b-422d-a666-ed66f9bca4da"
   },
   "outputs": [
    {
     "data": {
      "text/html": [
       "<div>\n",
       "<style scoped>\n",
       "    .dataframe tbody tr th:only-of-type {\n",
       "        vertical-align: middle;\n",
       "    }\n",
       "\n",
       "    .dataframe tbody tr th {\n",
       "        vertical-align: top;\n",
       "    }\n",
       "\n",
       "    .dataframe thead th {\n",
       "        text-align: right;\n",
       "    }\n",
       "</style>\n",
       "<table border=\"1\" class=\"dataframe\">\n",
       "  <thead>\n",
       "    <tr style=\"text-align: right;\">\n",
       "      <th></th>\n",
       "      <th>Unnamed: 0</th>\n",
       "      <th>countyFIPS</th>\n",
       "      <th>Date</th>\n",
       "      <th>Incremental Cases</th>\n",
       "      <th>population</th>\n",
       "      <th>Month</th>\n",
       "      <th>Case Change</th>\n",
       "      <th>retail_recreation</th>\n",
       "      <th>grocery_pharmacy</th>\n",
       "      <th>parks</th>\n",
       "      <th>transit</th>\n",
       "      <th>workplaces</th>\n",
       "      <th>residential</th>\n",
       "      <th>Original Month</th>\n",
       "      <th>delta_retail_recreation</th>\n",
       "      <th>delta_grocery_pharmacy</th>\n",
       "      <th>delta_parks</th>\n",
       "      <th>delta_transit</th>\n",
       "      <th>delta_workplaces</th>\n",
       "      <th>delta_residential</th>\n",
       "      <th>case_direction</th>\n",
       "    </tr>\n",
       "  </thead>\n",
       "  <tbody>\n",
       "    <tr>\n",
       "      <th>0</th>\n",
       "      <td>2</td>\n",
       "      <td>6037</td>\n",
       "      <td>2020-04-30</td>\n",
       "      <td>672.366667</td>\n",
       "      <td>10039107</td>\n",
       "      <td>2020-04-30</td>\n",
       "      <td>575.269892</td>\n",
       "      <td>-21.064516</td>\n",
       "      <td>-1.806452</td>\n",
       "      <td>-19.903226</td>\n",
       "      <td>-27.483871</td>\n",
       "      <td>-21.483871</td>\n",
       "      <td>10.935484</td>\n",
       "      <td>2020-03-31</td>\n",
       "      <td>-23.131183</td>\n",
       "      <td>-2.473118</td>\n",
       "      <td>-31.836559</td>\n",
       "      <td>-27.417204</td>\n",
       "      <td>-21.150538</td>\n",
       "      <td>10.935484</td>\n",
       "      <td>1</td>\n",
       "    </tr>\n",
       "    <tr>\n",
       "      <th>1</th>\n",
       "      <td>3</td>\n",
       "      <td>6037</td>\n",
       "      <td>2020-05-31</td>\n",
       "      <td>1026.258065</td>\n",
       "      <td>10039107</td>\n",
       "      <td>2020-05-31</td>\n",
       "      <td>353.891398</td>\n",
       "      <td>-51.766667</td>\n",
       "      <td>-22.066667</td>\n",
       "      <td>-44.900000</td>\n",
       "      <td>-52.600000</td>\n",
       "      <td>-48.566667</td>\n",
       "      <td>22.166667</td>\n",
       "      <td>2020-04-30</td>\n",
       "      <td>-30.702151</td>\n",
       "      <td>-20.260215</td>\n",
       "      <td>-24.996774</td>\n",
       "      <td>-25.116129</td>\n",
       "      <td>-27.082796</td>\n",
       "      <td>11.231183</td>\n",
       "      <td>1</td>\n",
       "    </tr>\n",
       "    <tr>\n",
       "      <th>2</th>\n",
       "      <td>4</td>\n",
       "      <td>6037</td>\n",
       "      <td>2020-06-30</td>\n",
       "      <td>1617.766667</td>\n",
       "      <td>10039107</td>\n",
       "      <td>2020-06-30</td>\n",
       "      <td>591.508602</td>\n",
       "      <td>-45.741935</td>\n",
       "      <td>-12.096774</td>\n",
       "      <td>-18.806452</td>\n",
       "      <td>-43.967742</td>\n",
       "      <td>-40.709677</td>\n",
       "      <td>17.580645</td>\n",
       "      <td>2020-05-31</td>\n",
       "      <td>6.024731</td>\n",
       "      <td>9.969892</td>\n",
       "      <td>26.093548</td>\n",
       "      <td>8.632258</td>\n",
       "      <td>7.856989</td>\n",
       "      <td>-4.586022</td>\n",
       "      <td>1</td>\n",
       "    </tr>\n",
       "    <tr>\n",
       "      <th>3</th>\n",
       "      <td>5</td>\n",
       "      <td>6037</td>\n",
       "      <td>2020-07-31</td>\n",
       "      <td>2740.387097</td>\n",
       "      <td>10039107</td>\n",
       "      <td>2020-07-31</td>\n",
       "      <td>1122.620430</td>\n",
       "      <td>-34.033333</td>\n",
       "      <td>-10.466667</td>\n",
       "      <td>-8.866667</td>\n",
       "      <td>-38.533333</td>\n",
       "      <td>-34.500000</td>\n",
       "      <td>13.833333</td>\n",
       "      <td>2020-06-30</td>\n",
       "      <td>11.708602</td>\n",
       "      <td>1.630108</td>\n",
       "      <td>9.939785</td>\n",
       "      <td>5.434409</td>\n",
       "      <td>6.209677</td>\n",
       "      <td>-3.747312</td>\n",
       "      <td>1</td>\n",
       "    </tr>\n",
       "    <tr>\n",
       "      <th>4</th>\n",
       "      <td>6</td>\n",
       "      <td>6037</td>\n",
       "      <td>2020-08-31</td>\n",
       "      <td>1718.935484</td>\n",
       "      <td>10039107</td>\n",
       "      <td>2020-08-31</td>\n",
       "      <td>-1021.451613</td>\n",
       "      <td>-32.096774</td>\n",
       "      <td>-10.483871</td>\n",
       "      <td>-6.935484</td>\n",
       "      <td>-40.096774</td>\n",
       "      <td>-37.580645</td>\n",
       "      <td>13.677419</td>\n",
       "      <td>2020-07-31</td>\n",
       "      <td>1.936559</td>\n",
       "      <td>-0.017204</td>\n",
       "      <td>1.931183</td>\n",
       "      <td>-1.563441</td>\n",
       "      <td>-3.080645</td>\n",
       "      <td>-0.155914</td>\n",
       "      <td>-1</td>\n",
       "    </tr>\n",
       "    <tr>\n",
       "      <th>5</th>\n",
       "      <td>7</td>\n",
       "      <td>6037</td>\n",
       "      <td>2020-09-30</td>\n",
       "      <td>951.033333</td>\n",
       "      <td>10039107</td>\n",
       "      <td>2020-09-30</td>\n",
       "      <td>-767.902151</td>\n",
       "      <td>-31.290323</td>\n",
       "      <td>-12.129032</td>\n",
       "      <td>-7.516129</td>\n",
       "      <td>-38.967742</td>\n",
       "      <td>-35.322581</td>\n",
       "      <td>12.129032</td>\n",
       "      <td>2020-08-31</td>\n",
       "      <td>0.806452</td>\n",
       "      <td>-1.645161</td>\n",
       "      <td>-0.580645</td>\n",
       "      <td>1.129032</td>\n",
       "      <td>2.258065</td>\n",
       "      <td>-1.548387</td>\n",
       "      <td>-1</td>\n",
       "    </tr>\n",
       "    <tr>\n",
       "      <th>6</th>\n",
       "      <td>8</td>\n",
       "      <td>6037</td>\n",
       "      <td>2020-10-31</td>\n",
       "      <td>1203.838710</td>\n",
       "      <td>10039107</td>\n",
       "      <td>2020-10-31</td>\n",
       "      <td>252.805376</td>\n",
       "      <td>-30.500000</td>\n",
       "      <td>-13.533333</td>\n",
       "      <td>-16.766667</td>\n",
       "      <td>-40.166667</td>\n",
       "      <td>-35.900000</td>\n",
       "      <td>12.066667</td>\n",
       "      <td>2020-09-30</td>\n",
       "      <td>0.790323</td>\n",
       "      <td>-1.404301</td>\n",
       "      <td>-9.250538</td>\n",
       "      <td>-1.198925</td>\n",
       "      <td>-0.577419</td>\n",
       "      <td>-0.062366</td>\n",
       "      <td>1</td>\n",
       "    </tr>\n",
       "    <tr>\n",
       "      <th>7</th>\n",
       "      <td>9</td>\n",
       "      <td>6037</td>\n",
       "      <td>2020-11-30</td>\n",
       "      <td>3110.033333</td>\n",
       "      <td>10039107</td>\n",
       "      <td>2020-11-30</td>\n",
       "      <td>1906.194624</td>\n",
       "      <td>-29.677419</td>\n",
       "      <td>-12.806452</td>\n",
       "      <td>-19.709677</td>\n",
       "      <td>-36.709677</td>\n",
       "      <td>-32.290323</td>\n",
       "      <td>11.129032</td>\n",
       "      <td>2020-10-31</td>\n",
       "      <td>0.822581</td>\n",
       "      <td>0.726882</td>\n",
       "      <td>-2.943011</td>\n",
       "      <td>3.456989</td>\n",
       "      <td>3.609677</td>\n",
       "      <td>-0.937634</td>\n",
       "      <td>1</td>\n",
       "    </tr>\n",
       "    <tr>\n",
       "      <th>8</th>\n",
       "      <td>10</td>\n",
       "      <td>6037</td>\n",
       "      <td>2020-12-31</td>\n",
       "      <td>11137.550000</td>\n",
       "      <td>10039107</td>\n",
       "      <td>2020-12-31</td>\n",
       "      <td>8027.516667</td>\n",
       "      <td>-31.300000</td>\n",
       "      <td>-13.933333</td>\n",
       "      <td>-27.733333</td>\n",
       "      <td>-42.300000</td>\n",
       "      <td>-34.866667</td>\n",
       "      <td>12.600000</td>\n",
       "      <td>2020-11-30</td>\n",
       "      <td>-1.622581</td>\n",
       "      <td>-1.126882</td>\n",
       "      <td>-8.023656</td>\n",
       "      <td>-5.590323</td>\n",
       "      <td>-2.576344</td>\n",
       "      <td>1.470968</td>\n",
       "      <td>1</td>\n",
       "    </tr>\n",
       "  </tbody>\n",
       "</table>\n",
       "</div>"
      ],
      "text/plain": [
       "   Unnamed: 0  countyFIPS  ... delta_residential  case_direction\n",
       "0           2        6037  ...         10.935484               1\n",
       "1           3        6037  ...         11.231183               1\n",
       "2           4        6037  ...         -4.586022               1\n",
       "3           5        6037  ...         -3.747312               1\n",
       "4           6        6037  ...         -0.155914              -1\n",
       "5           7        6037  ...         -1.548387              -1\n",
       "6           8        6037  ...         -0.062366               1\n",
       "7           9        6037  ...         -0.937634               1\n",
       "8          10        6037  ...          1.470968               1\n",
       "\n",
       "[9 rows x 21 columns]"
      ]
     },
     "execution_count": 7,
     "metadata": {
      "tags": []
     },
     "output_type": "execute_result"
    }
   ],
   "source": [
    "if using_Google_colab:\n",
    "  merged_LA = pd.read_csv('/content/drive/MyDrive/COVID_Project/output/merged_LA.csv')\n",
    "if using_Anaconda_on_Mac_or_Linux:\n",
    "  merged_LA = pd.read_csv('../output/merged_LA.csv')\n",
    "if using_Anaconda_on_windows:\n",
    "  merged_LA = pd.read_csv(r'..\\output\\merged_LA.csv')\n",
    "merged_LA"
   ]
  },
  {
   "cell_type": "markdown",
   "metadata": {
    "id": "F06LqLKv0oe_"
   },
   "source": [
    "### Prepare and apply the model\n"
   ]
  },
  {
   "cell_type": "code",
   "execution_count": 8,
   "metadata": {
    "colab": {
     "base_uri": "https://localhost:8080/"
    },
    "id": "nsSnyNxE0u-D",
    "outputId": "df35c0c9-5d5c-4a2f-83cd-6a7574fb1620"
   },
   "outputs": [
    {
     "data": {
      "text/plain": [
       "array([[-2.31311828e+01, -2.47311828e+00, -3.18365591e+01,\n",
       "        -2.74172043e+01, -2.11505376e+01,  1.09354839e+01],\n",
       "       [-3.07021505e+01, -2.02602151e+01, -2.49967742e+01,\n",
       "        -2.51161290e+01, -2.70827957e+01,  1.12311828e+01],\n",
       "       [ 6.02473118e+00,  9.96989247e+00,  2.60935484e+01,\n",
       "         8.63225806e+00,  7.85698925e+00, -4.58602151e+00],\n",
       "       [ 1.17086022e+01,  1.63010753e+00,  9.93978495e+00,\n",
       "         5.43440860e+00,  6.20967742e+00, -3.74731183e+00],\n",
       "       [ 1.93655914e+00, -1.72043011e-02,  1.93118280e+00,\n",
       "        -1.56344086e+00, -3.08064516e+00, -1.55913978e-01],\n",
       "       [ 8.06451613e-01, -1.64516129e+00, -5.80645161e-01,\n",
       "         1.12903226e+00,  2.25806452e+00, -1.54838710e+00],\n",
       "       [ 7.90322581e-01, -1.40430108e+00, -9.25053763e+00,\n",
       "        -1.19892473e+00, -5.77419355e-01, -6.23655914e-02],\n",
       "       [ 8.22580645e-01,  7.26881720e-01, -2.94301075e+00,\n",
       "         3.45698925e+00,  3.60967742e+00, -9.37634409e-01],\n",
       "       [-1.62258065e+00, -1.12688172e+00, -8.02365591e+00,\n",
       "        -5.59032258e+00, -2.57634409e+00,  1.47096774e+00]])"
      ]
     },
     "execution_count": 8,
     "metadata": {
      "tags": []
     },
     "output_type": "execute_result"
    }
   ],
   "source": [
    "y_LA = merged_LA['case_direction'].values\n",
    "X_LA = merged_LA[['delta_retail_recreation', \n",
    "               'delta_grocery_pharmacy', \n",
    "               'delta_parks', \n",
    "               'delta_transit', \n",
    "               'delta_workplaces', \n",
    "               'delta_residential']].values\n",
    "X_LA"
   ]
  },
  {
   "cell_type": "code",
   "execution_count": null,
   "metadata": {
    "colab": {
     "base_uri": "https://localhost:8080/"
    },
    "id": "GZ7dWBxe274C",
    "outputId": "dfcd6666-7240-4251-f87a-4a845acceb01"
   },
   "outputs": [
    {
     "data": {
      "text/plain": [
       "array([ 1,  1,  1,  1, -1, -1,  1,  1,  1])"
      ]
     },
     "execution_count": 6,
     "metadata": {
      "tags": []
     },
     "output_type": "execute_result"
    }
   ],
   "source": [
    "y_LA"
   ]
  },
  {
   "cell_type": "markdown",
   "metadata": {
    "id": "Xvxvvet8UBVC"
   },
   "source": [
    "## EM2.2 Divide data into train and test, develop and test the model\n"
   ]
  },
  {
   "cell_type": "code",
   "execution_count": 9,
   "metadata": {
    "id": "IZwvrNLI1k3e"
   },
   "outputs": [],
   "source": [
    "decision_tree = DecisionTreeClassifier()\n",
    "X_train_LA, X_test_LA, y_train_LA, y_test_LA = train_test_split(X_LA, \n",
    "                                                                y_LA, \n",
    "                                                                test_size=0.2, \n",
    "                                                                random_state=0)\n",
    "model_LA = decision_tree.fit(X_train_LA, y_train_LA)"
   ]
  },
  {
   "cell_type": "code",
   "execution_count": null,
   "metadata": {
    "colab": {
     "base_uri": "https://localhost:8080/"
    },
    "id": "8HU7ea_O3FVb",
    "outputId": "bf1ec61c-c6cf-4e7b-aba1-83d8db0134c2"
   },
   "outputs": [
    {
     "data": {
      "text/plain": [
       "array([[-3.07021505e+01, -2.02602151e+01, -2.49967742e+01,\n",
       "        -2.51161290e+01, -2.70827957e+01,  1.12311828e+01],\n",
       "       [ 1.93655914e+00, -1.72043011e-02,  1.93118280e+00,\n",
       "        -1.56344086e+00, -3.08064516e+00, -1.55913978e-01],\n",
       "       [-1.62258065e+00, -1.12688172e+00, -8.02365591e+00,\n",
       "        -5.59032258e+00, -2.57634409e+00,  1.47096774e+00],\n",
       "       [ 7.90322581e-01, -1.40430108e+00, -9.25053763e+00,\n",
       "        -1.19892473e+00, -5.77419355e-01, -6.23655914e-02],\n",
       "       [ 1.17086022e+01,  1.63010753e+00,  9.93978495e+00,\n",
       "         5.43440860e+00,  6.20967742e+00, -3.74731183e+00],\n",
       "       [-2.31311828e+01, -2.47311828e+00, -3.18365591e+01,\n",
       "        -2.74172043e+01, -2.11505376e+01,  1.09354839e+01],\n",
       "       [ 8.06451613e-01, -1.64516129e+00, -5.80645161e-01,\n",
       "         1.12903226e+00,  2.25806452e+00, -1.54838710e+00]])"
      ]
     },
     "execution_count": 8,
     "metadata": {
      "tags": []
     },
     "output_type": "execute_result"
    }
   ],
   "source": [
    "X_train_LA"
   ]
  },
  {
   "cell_type": "code",
   "execution_count": null,
   "metadata": {
    "colab": {
     "base_uri": "https://localhost:8080/"
    },
    "id": "-9gBD33kjlHR",
    "outputId": "c5d2838e-1917-4886-9cc7-95cbbc0d326e"
   },
   "outputs": [
    {
     "data": {
      "text/plain": [
       "array([ 1, -1,  1,  1,  1,  1, -1])"
      ]
     },
     "execution_count": 9,
     "metadata": {
      "tags": []
     },
     "output_type": "execute_result"
    }
   ],
   "source": [
    "y_train_LA"
   ]
  },
  {
   "cell_type": "code",
   "execution_count": 10,
   "metadata": {
    "colab": {
     "base_uri": "https://localhost:8080/",
     "height": 466
    },
    "id": "0LBzgqK333Bb",
    "outputId": "4f4b94bb-678e-4e8e-84be-6b7b9eb123ce"
   },
   "outputs": [
    {
     "data": {
      "image/png": "[encoded data removed]",
      "text/plain": [
       "<Figure size 1224x576 with 1 Axes>"
      ]
     },
     "metadata": {
      "needs_background": "light",
      "tags": []
     },
     "output_type": "display_data"
    }
   ],
   "source": [
    " plt.figure(figsize=(17,8))\n",
    " tree.plot_tree(model_LA, max_depth=2)\n",
    " plt.show()"
   ]
  },
  {
   "cell_type": "code",
   "execution_count": 11,
   "metadata": {
    "colab": {
     "base_uri": "https://localhost:8080/"
    },
    "id": "pXB3_cl1k3g9",
    "outputId": "ea971941-5aa0-47ea-dcce-4e14772b0e15"
   },
   "outputs": [
    {
     "name": "stdout",
     "output_type": "stream",
     "text": [
      "[0.         0.         0.         0.46666667 0.         0.53333333]\n"
     ]
    }
   ],
   "source": [
    "print(decision_tree.feature_importances_)"
   ]
  },
  {
   "cell_type": "code",
   "execution_count": 12,
   "metadata": {
    "colab": {
     "base_uri": "https://localhost:8080/"
    },
    "id": "1ZkmraD6kyeq",
    "outputId": "0d23f08d-036a-485b-9e3b-8ada90c1ebf8"
   },
   "outputs": [
    {
     "data": {
      "text/plain": [
       "array([1, 1])"
      ]
     },
     "execution_count": 12,
     "metadata": {
      "tags": []
     },
     "output_type": "execute_result"
    }
   ],
   "source": [
    "y_predict_LA = decision_tree.predict(X_test_LA)\n",
    "y_predict_LA"
   ]
  },
  {
   "cell_type": "code",
   "execution_count": 13,
   "metadata": {
    "colab": {
     "base_uri": "https://localhost:8080/"
    },
    "id": "IpLtuzJL3Lmk",
    "outputId": "84d3a856-ffbe-4616-c4a8-dc30888fcb5a"
   },
   "outputs": [
    {
     "data": {
      "text/plain": [
       "array([1, 1])"
      ]
     },
     "execution_count": 13,
     "metadata": {
      "tags": []
     },
     "output_type": "execute_result"
    }
   ],
   "source": [
    "y_test_LA"
   ]
  },
  {
   "cell_type": "code",
   "execution_count": 14,
   "metadata": {
    "colab": {
     "base_uri": "https://localhost:8080/"
    },
    "id": "ZPhrYUMQ1m9E",
    "outputId": "f2722962-ab53-4deb-bae5-e8c9aa2bc3c4"
   },
   "outputs": [
    {
     "data": {
      "text/plain": [
       "1.0"
      ]
     },
     "execution_count": 14,
     "metadata": {
      "tags": []
     },
     "output_type": "execute_result"
    }
   ],
   "source": [
    "\n",
    "accuracy_score(y_test_LA, y_predict_LA)"
   ]
  },
  {
   "cell_type": "markdown",
   "metadata": {
    "id": "VaNLbrh3PsC9"
   },
   "source": [
    "## EM2.3 Load all county Data"
   ]
  },
  {
   "cell_type": "code",
   "execution_count": 15,
   "metadata": {
    "colab": {
     "base_uri": "https://localhost:8080/",
     "height": 626
    },
    "id": "OPc3awTbPqp0",
    "outputId": "54b447be-5d36-475f-acb5-2329f1e89d62"
   },
   "outputs": [
    {
     "data": {
      "text/html": [
       "<div>\n",
       "<style scoped>\n",
       "    .dataframe tbody tr th:only-of-type {\n",
       "        vertical-align: middle;\n",
       "    }\n",
       "\n",
       "    .dataframe tbody tr th {\n",
       "        vertical-align: top;\n",
       "    }\n",
       "\n",
       "    .dataframe thead th {\n",
       "        text-align: right;\n",
       "    }\n",
       "</style>\n",
       "<table border=\"1\" class=\"dataframe\">\n",
       "  <thead>\n",
       "    <tr style=\"text-align: right;\">\n",
       "      <th></th>\n",
       "      <th>Unnamed: 0</th>\n",
       "      <th>countyFIPS</th>\n",
       "      <th>Date</th>\n",
       "      <th>Incremental Cases</th>\n",
       "      <th>population</th>\n",
       "      <th>Month</th>\n",
       "      <th>Case Change</th>\n",
       "      <th>retail_recreation</th>\n",
       "      <th>grocery_pharmacy</th>\n",
       "      <th>parks</th>\n",
       "      <th>transit</th>\n",
       "      <th>workplaces</th>\n",
       "      <th>residential</th>\n",
       "      <th>Original Month</th>\n",
       "      <th>delta_retail_recreation</th>\n",
       "      <th>delta_grocery_pharmacy</th>\n",
       "      <th>delta_parks</th>\n",
       "      <th>delta_transit</th>\n",
       "      <th>delta_workplaces</th>\n",
       "      <th>delta_residential</th>\n",
       "      <th>case_direction</th>\n",
       "    </tr>\n",
       "  </thead>\n",
       "  <tbody>\n",
       "    <tr>\n",
       "      <th>0</th>\n",
       "      <td>0</td>\n",
       "      <td>1001</td>\n",
       "      <td>2020-02-29</td>\n",
       "      <td>0.000000</td>\n",
       "      <td>55869</td>\n",
       "      <td>2020-02-29</td>\n",
       "      <td>0.000000</td>\n",
       "      <td>0.000000</td>\n",
       "      <td>0.000000</td>\n",
       "      <td>0.0</td>\n",
       "      <td>0.0</td>\n",
       "      <td>0.000000</td>\n",
       "      <td>0.000000</td>\n",
       "      <td>2020-01-31</td>\n",
       "      <td>0.000000</td>\n",
       "      <td>0.000000</td>\n",
       "      <td>0.0</td>\n",
       "      <td>0.0</td>\n",
       "      <td>0.000000</td>\n",
       "      <td>0.000000</td>\n",
       "      <td>-1</td>\n",
       "    </tr>\n",
       "    <tr>\n",
       "      <th>1</th>\n",
       "      <td>1</td>\n",
       "      <td>1001</td>\n",
       "      <td>2020-03-31</td>\n",
       "      <td>0.225806</td>\n",
       "      <td>55869</td>\n",
       "      <td>2020-03-31</td>\n",
       "      <td>0.225806</td>\n",
       "      <td>4.733333</td>\n",
       "      <td>2.533333</td>\n",
       "      <td>-23.0</td>\n",
       "      <td>0.0</td>\n",
       "      <td>0.266667</td>\n",
       "      <td>0.200000</td>\n",
       "      <td>2020-02-29</td>\n",
       "      <td>0.000000</td>\n",
       "      <td>0.000000</td>\n",
       "      <td>0.0</td>\n",
       "      <td>0.0</td>\n",
       "      <td>0.000000</td>\n",
       "      <td>0.000000</td>\n",
       "      <td>1</td>\n",
       "    </tr>\n",
       "    <tr>\n",
       "      <th>2</th>\n",
       "      <td>2</td>\n",
       "      <td>1001</td>\n",
       "      <td>2020-04-30</td>\n",
       "      <td>1.166667</td>\n",
       "      <td>55869</td>\n",
       "      <td>2020-04-30</td>\n",
       "      <td>0.940860</td>\n",
       "      <td>-6.354839</td>\n",
       "      <td>12.612903</td>\n",
       "      <td>-14.0</td>\n",
       "      <td>0.0</td>\n",
       "      <td>-13.419355</td>\n",
       "      <td>6.090909</td>\n",
       "      <td>2020-03-31</td>\n",
       "      <td>-11.088172</td>\n",
       "      <td>10.079570</td>\n",
       "      <td>9.0</td>\n",
       "      <td>0.0</td>\n",
       "      <td>-13.686022</td>\n",
       "      <td>5.890909</td>\n",
       "      <td>1</td>\n",
       "    </tr>\n",
       "    <tr>\n",
       "      <th>3</th>\n",
       "      <td>3</td>\n",
       "      <td>1001</td>\n",
       "      <td>2020-05-31</td>\n",
       "      <td>5.741935</td>\n",
       "      <td>55869</td>\n",
       "      <td>2020-05-31</td>\n",
       "      <td>4.575269</td>\n",
       "      <td>-25.700000</td>\n",
       "      <td>4.033333</td>\n",
       "      <td>-49.5</td>\n",
       "      <td>0.0</td>\n",
       "      <td>-37.833333</td>\n",
       "      <td>15.863636</td>\n",
       "      <td>2020-04-30</td>\n",
       "      <td>-19.345161</td>\n",
       "      <td>-8.579570</td>\n",
       "      <td>-35.5</td>\n",
       "      <td>0.0</td>\n",
       "      <td>-24.413978</td>\n",
       "      <td>9.772727</td>\n",
       "      <td>1</td>\n",
       "    </tr>\n",
       "    <tr>\n",
       "      <th>4</th>\n",
       "      <td>4</td>\n",
       "      <td>1001</td>\n",
       "      <td>2020-06-30</td>\n",
       "      <td>10.566667</td>\n",
       "      <td>55869</td>\n",
       "      <td>2020-06-30</td>\n",
       "      <td>4.824731</td>\n",
       "      <td>-3.677419</td>\n",
       "      <td>13.548387</td>\n",
       "      <td>0.0</td>\n",
       "      <td>0.0</td>\n",
       "      <td>-27.451613</td>\n",
       "      <td>10.850000</td>\n",
       "      <td>2020-05-31</td>\n",
       "      <td>22.022581</td>\n",
       "      <td>9.515054</td>\n",
       "      <td>0.0</td>\n",
       "      <td>0.0</td>\n",
       "      <td>10.381720</td>\n",
       "      <td>-5.013636</td>\n",
       "      <td>1</td>\n",
       "    </tr>\n",
       "    <tr>\n",
       "      <th>...</th>\n",
       "      <td>...</td>\n",
       "      <td>...</td>\n",
       "      <td>...</td>\n",
       "      <td>...</td>\n",
       "      <td>...</td>\n",
       "      <td>...</td>\n",
       "      <td>...</td>\n",
       "      <td>...</td>\n",
       "      <td>...</td>\n",
       "      <td>...</td>\n",
       "      <td>...</td>\n",
       "      <td>...</td>\n",
       "      <td>...</td>\n",
       "      <td>...</td>\n",
       "      <td>...</td>\n",
       "      <td>...</td>\n",
       "      <td>...</td>\n",
       "      <td>...</td>\n",
       "      <td>...</td>\n",
       "      <td>...</td>\n",
       "      <td>...</td>\n",
       "    </tr>\n",
       "    <tr>\n",
       "      <th>34579</th>\n",
       "      <td>34579</td>\n",
       "      <td>56045</td>\n",
       "      <td>2020-08-31</td>\n",
       "      <td>0.451613</td>\n",
       "      <td>6927</td>\n",
       "      <td>2020-08-31</td>\n",
       "      <td>0.354839</td>\n",
       "      <td>0.000000</td>\n",
       "      <td>0.000000</td>\n",
       "      <td>0.0</td>\n",
       "      <td>0.0</td>\n",
       "      <td>-25.565217</td>\n",
       "      <td>0.000000</td>\n",
       "      <td>2020-07-31</td>\n",
       "      <td>0.000000</td>\n",
       "      <td>0.000000</td>\n",
       "      <td>0.0</td>\n",
       "      <td>0.0</td>\n",
       "      <td>-0.837945</td>\n",
       "      <td>0.000000</td>\n",
       "      <td>1</td>\n",
       "    </tr>\n",
       "    <tr>\n",
       "      <th>34580</th>\n",
       "      <td>34580</td>\n",
       "      <td>56045</td>\n",
       "      <td>2020-09-30</td>\n",
       "      <td>0.666667</td>\n",
       "      <td>6927</td>\n",
       "      <td>2020-09-30</td>\n",
       "      <td>0.215054</td>\n",
       "      <td>0.000000</td>\n",
       "      <td>0.000000</td>\n",
       "      <td>0.0</td>\n",
       "      <td>0.0</td>\n",
       "      <td>-23.200000</td>\n",
       "      <td>0.000000</td>\n",
       "      <td>2020-08-31</td>\n",
       "      <td>0.000000</td>\n",
       "      <td>0.000000</td>\n",
       "      <td>0.0</td>\n",
       "      <td>0.0</td>\n",
       "      <td>2.365217</td>\n",
       "      <td>0.000000</td>\n",
       "      <td>1</td>\n",
       "    </tr>\n",
       "    <tr>\n",
       "      <th>34581</th>\n",
       "      <td>34581</td>\n",
       "      <td>56045</td>\n",
       "      <td>2020-10-31</td>\n",
       "      <td>3.870968</td>\n",
       "      <td>6927</td>\n",
       "      <td>2020-10-31</td>\n",
       "      <td>3.204301</td>\n",
       "      <td>0.000000</td>\n",
       "      <td>0.000000</td>\n",
       "      <td>0.0</td>\n",
       "      <td>0.0</td>\n",
       "      <td>-14.000000</td>\n",
       "      <td>0.000000</td>\n",
       "      <td>2020-09-30</td>\n",
       "      <td>0.000000</td>\n",
       "      <td>0.000000</td>\n",
       "      <td>0.0</td>\n",
       "      <td>0.0</td>\n",
       "      <td>9.200000</td>\n",
       "      <td>0.000000</td>\n",
       "      <td>1</td>\n",
       "    </tr>\n",
       "    <tr>\n",
       "      <th>34582</th>\n",
       "      <td>34582</td>\n",
       "      <td>56045</td>\n",
       "      <td>2020-11-30</td>\n",
       "      <td>7.933333</td>\n",
       "      <td>6927</td>\n",
       "      <td>2020-11-30</td>\n",
       "      <td>4.062366</td>\n",
       "      <td>0.000000</td>\n",
       "      <td>0.000000</td>\n",
       "      <td>0.0</td>\n",
       "      <td>0.0</td>\n",
       "      <td>-13.272727</td>\n",
       "      <td>0.000000</td>\n",
       "      <td>2020-10-31</td>\n",
       "      <td>0.000000</td>\n",
       "      <td>0.000000</td>\n",
       "      <td>0.0</td>\n",
       "      <td>0.0</td>\n",
       "      <td>0.727273</td>\n",
       "      <td>0.000000</td>\n",
       "      <td>1</td>\n",
       "    </tr>\n",
       "    <tr>\n",
       "      <th>34583</th>\n",
       "      <td>34583</td>\n",
       "      <td>56045</td>\n",
       "      <td>2020-12-31</td>\n",
       "      <td>2.450000</td>\n",
       "      <td>6927</td>\n",
       "      <td>2020-12-31</td>\n",
       "      <td>-5.483333</td>\n",
       "      <td>0.000000</td>\n",
       "      <td>0.000000</td>\n",
       "      <td>0.0</td>\n",
       "      <td>0.0</td>\n",
       "      <td>-24.095238</td>\n",
       "      <td>0.000000</td>\n",
       "      <td>2020-11-30</td>\n",
       "      <td>0.000000</td>\n",
       "      <td>0.000000</td>\n",
       "      <td>0.0</td>\n",
       "      <td>0.0</td>\n",
       "      <td>-10.822511</td>\n",
       "      <td>0.000000</td>\n",
       "      <td>-1</td>\n",
       "    </tr>\n",
       "  </tbody>\n",
       "</table>\n",
       "<p>34584 rows × 21 columns</p>\n",
       "</div>"
      ],
      "text/plain": [
       "       Unnamed: 0  countyFIPS  ... delta_residential  case_direction\n",
       "0               0        1001  ...          0.000000              -1\n",
       "1               1        1001  ...          0.000000               1\n",
       "2               2        1001  ...          5.890909               1\n",
       "3               3        1001  ...          9.772727               1\n",
       "4               4        1001  ...         -5.013636               1\n",
       "...           ...         ...  ...               ...             ...\n",
       "34579       34579       56045  ...          0.000000               1\n",
       "34580       34580       56045  ...          0.000000               1\n",
       "34581       34581       56045  ...          0.000000               1\n",
       "34582       34582       56045  ...          0.000000               1\n",
       "34583       34583       56045  ...          0.000000              -1\n",
       "\n",
       "[34584 rows x 21 columns]"
      ]
     },
     "execution_count": 15,
     "metadata": {
      "tags": []
     },
     "output_type": "execute_result"
    }
   ],
   "source": [
    "if using_Google_colab:\n",
    "  merged_all = pd.read_csv('/content/drive/MyDrive/COVID_Project/output/merged_all.csv')\n",
    "if using_Anaconda_on_Mac_or_Linux:\n",
    "  merged_all = pd.read_csv('../output/merged_all.csv')\n",
    "if using_Anaconda_on_windows:\n",
    "  merged_all = pd.read_csv(r'..\\output\\merged_all.csv')\n",
    "merged_all"
   ]
  },
  {
   "cell_type": "markdown",
   "metadata": {
    "id": "Kj9UCQSklWEi"
   },
   "source": [
    "### Prepare and apply the model to all counties data"
   ]
  },
  {
   "cell_type": "code",
   "execution_count": 16,
   "metadata": {
    "colab": {
     "base_uri": "https://localhost:8080/"
    },
    "id": "H3X6NE3Xlagc",
    "outputId": "bd442582-ec38-43ab-ec82-5a047b9048da"
   },
   "outputs": [
    {
     "data": {
      "text/plain": [
       "(34584, 6)"
      ]
     },
     "execution_count": 16,
     "metadata": {
      "tags": []
     },
     "output_type": "execute_result"
    }
   ],
   "source": [
    "y_all = merged_all['case_direction'].values\n",
    "X_all = merged_all[['delta_retail_recreation', \n",
    "                    'delta_grocery_pharmacy', \n",
    "                    'delta_parks', \n",
    "                    'delta_transit', \n",
    "                    'delta_workplaces', \n",
    "                    'delta_residential']].values\n",
    "X_all.shape"
   ]
  },
  {
   "cell_type": "code",
   "execution_count": 17,
   "metadata": {
    "colab": {
     "base_uri": "https://localhost:8080/"
    },
    "id": "pENkRTa1lwYZ",
    "outputId": "3c4b4e1b-ad71-42a7-c9ee-525136bd32a8"
   },
   "outputs": [
    {
     "data": {
      "text/plain": [
       "(34584,)"
      ]
     },
     "execution_count": 17,
     "metadata": {
      "tags": []
     },
     "output_type": "execute_result"
    }
   ],
   "source": [
    "y_all.shape"
   ]
  },
  {
   "cell_type": "code",
   "execution_count": 18,
   "metadata": {
    "collapsed": true,
    "id": "VsOlVJJSl0GM"
   },
   "outputs": [],
   "source": [
    "decision_tree_all = DecisionTreeClassifier()\n",
    "X_train_all, X_test_all, y_train_all, y_test_all = train_test_split(X_all, y_all, test_size=0.2, random_state=0)\n",
    "model_all = decision_tree_all.fit(X_train_all, y_train_all)"
   ]
  },
  {
   "cell_type": "code",
   "execution_count": 19,
   "metadata": {
    "colab": {
     "base_uri": "https://localhost:8080/"
    },
    "id": "EUub90qTmBzz",
    "outputId": "bf7576ad-c2da-45f8-f7ca-cc3707b24382"
   },
   "outputs": [
    {
     "data": {
      "text/plain": [
       "(27667, 6)"
      ]
     },
     "execution_count": 19,
     "metadata": {
      "tags": []
     },
     "output_type": "execute_result"
    }
   ],
   "source": [
    "X_train_all.shape"
   ]
  },
  {
   "cell_type": "code",
   "execution_count": 20,
   "metadata": {
    "colab": {
     "base_uri": "https://localhost:8080/"
    },
    "id": "hABGHmNyAOGL",
    "outputId": "c9f1a8d4-1260-4fba-c1f0-d322ce2f3d0c"
   },
   "outputs": [
    {
     "data": {
      "text/plain": [
       "(6917, 6)"
      ]
     },
     "execution_count": 20,
     "metadata": {
      "tags": []
     },
     "output_type": "execute_result"
    }
   ],
   "source": [
    "X_test_all.shape"
   ]
  },
  {
   "cell_type": "code",
   "execution_count": 21,
   "metadata": {
    "colab": {
     "base_uri": "https://localhost:8080/"
    },
    "id": "mj1iJ-FDlNcx",
    "outputId": "5b9c3dc8-1f3d-493e-f785-dcaa434a819b"
   },
   "outputs": [
    {
     "name": "stdout",
     "output_type": "stream",
     "text": [
      "[0.14113612 0.14131572 0.05663455 0.08411799 0.46780035 0.10899527]\n"
     ]
    }
   ],
   "source": [
    "print(decision_tree_all.feature_importances_)"
   ]
  },
  {
   "cell_type": "code",
   "execution_count": 22,
   "metadata": {
    "colab": {
     "base_uri": "https://localhost:8080/",
     "height": 846
    },
    "id": "C3gMECsoTt8x",
    "outputId": "b0c1760b-4528-40e9-b0c3-b1426cfc1f0a"
   },
   "outputs": [
    {
     "data": {
      "image/png": "[encoded data removed]",
      "text/plain": [
       "<Figure size 1440x1080 with 1 Axes>"
      ]
     },
     "metadata": {
      "needs_background": "light",
      "tags": []
     },
     "output_type": "display_data"
    }
   ],
   "source": [
    "plt.figure(figsize=(20,15))\n",
    "tree.plot_tree(model_all, max_depth=2)\n",
    "plt.show()"
   ]
  },
  {
   "cell_type": "code",
   "execution_count": 23,
   "metadata": {
    "colab": {
     "base_uri": "https://localhost:8080/"
    },
    "id": "SFjSSXxqm2JE",
    "outputId": "f510cc6b-f199-4653-a4b8-d0644d259b3a"
   },
   "outputs": [
    {
     "data": {
      "text/plain": [
       "0.6151510770565274"
      ]
     },
     "execution_count": 23,
     "metadata": {
      "tags": []
     },
     "output_type": "execute_result"
    }
   ],
   "source": [
    "y_predict_all = decision_tree_all.predict(X_test_all)\n",
    "accuracy_score(y_test_all, y_predict_all)"
   ]
  },
  {
   "cell_type": "markdown",
   "metadata": {
    "id": "SQJ16q1_lM3K"
   },
   "source": [
    "### Compute Confusion_matrix"
   ]
  },
  {
   "cell_type": "markdown",
   "metadata": {
    "id": "7EcqN6sKU8KZ"
   },
   "source": [
    "## EM2.4 Test the model and compute confusion matrix, precision and recall"
   ]
  },
  {
   "cell_type": "code",
   "execution_count": 24,
   "metadata": {
    "colab": {
     "base_uri": "https://localhost:8080/",
     "height": 111
    },
    "id": "Ie7Gi9oI1_yj",
    "outputId": "0a9f25a3-1568-4185-ac89-3a10884ffef9"
   },
   "outputs": [
    {
     "data": {
      "text/html": [
       "<div>\n",
       "<style scoped>\n",
       "    .dataframe tbody tr th:only-of-type {\n",
       "        vertical-align: middle;\n",
       "    }\n",
       "\n",
       "    .dataframe tbody tr th {\n",
       "        vertical-align: top;\n",
       "    }\n",
       "\n",
       "    .dataframe thead th {\n",
       "        text-align: right;\n",
       "    }\n",
       "</style>\n",
       "<table border=\"1\" class=\"dataframe\">\n",
       "  <thead>\n",
       "    <tr style=\"text-align: right;\">\n",
       "      <th></th>\n",
       "      <th>Predicted Not increase</th>\n",
       "      <th>Predicted Increase</th>\n",
       "    </tr>\n",
       "  </thead>\n",
       "  <tbody>\n",
       "    <tr>\n",
       "      <th>True Not Increase</th>\n",
       "      <td>1688</td>\n",
       "      <td>891</td>\n",
       "    </tr>\n",
       "    <tr>\n",
       "      <th>True Increase</th>\n",
       "      <td>1771</td>\n",
       "      <td>2567</td>\n",
       "    </tr>\n",
       "  </tbody>\n",
       "</table>\n",
       "</div>"
      ],
      "text/plain": [
       "                   Predicted Not increase  Predicted Increase\n",
       "True Not Increase                    1688                 891\n",
       "True Increase                        1771                2567"
      ]
     },
     "execution_count": 24,
     "metadata": {
      "tags": []
     },
     "output_type": "execute_result"
    }
   ],
   "source": [
    "pd.DataFrame(\n",
    "    confusion_matrix(y_test_all, y_predict_all),\n",
    "    columns=['Predicted Not increase', 'Predicted Increase'],\n",
    "    index=['True Not Increase', 'True Increase'])"
   ]
  },
  {
   "cell_type": "code",
   "execution_count": null,
   "metadata": {
    "id": "I4zigeGOvf2O"
   },
   "outputs": [],
   "source": []
  },
  {
   "cell_type": "code",
   "execution_count": 25,
   "metadata": {
    "colab": {
     "base_uri": "https://localhost:8080/"
    },
    "id": "lqhMZO3t1Yki",
    "outputId": "3b925094-e272-4da9-cb78-215e35bf4400"
   },
   "outputs": [
    {
     "data": {
      "text/plain": [
       "0.7423366107576634"
      ]
     },
     "execution_count": 25,
     "metadata": {
      "tags": []
     },
     "output_type": "execute_result"
    }
   ],
   "source": [
    "average_precision = precision_score(y_test_all, y_predict_all)\n",
    "average_precision"
   ]
  },
  {
   "cell_type": "code",
   "execution_count": 26,
   "metadata": {
    "colab": {
     "base_uri": "https://localhost:8080/"
    },
    "id": "Ma2DjLWa2RtV",
    "outputId": "ea82570f-8a5a-443c-c55e-7215d146e979"
   },
   "outputs": [
    {
     "data": {
      "text/plain": [
       "0.5917473490087598"
      ]
     },
     "execution_count": 26,
     "metadata": {
      "tags": []
     },
     "output_type": "execute_result"
    }
   ],
   "source": [
    "recall_score(y_test_all, y_predict_all)"
   ]
  }
 ],
 "metadata": {
  "colab": {
   "collapsed_sections": [],
   "name": "Step-5-Evaluate-Model-Task-2-Classification-Class-Assignment.ipynb",
   "provenance": []
  },
  "kernelspec": {
   "display_name": "Python 3",
   "language": "python",
   "name": "python3"
  },
  "language_info": {
   "codemirror_mode": {
    "name": "ipython",
    "version": 3
   },
   "file_extension": ".py",
   "mimetype": "text/x-python",
   "name": "python",
   "nbconvert_exporter": "python",
   "pygments_lexer": "ipython3",
   "version": "3.7.0"
  }
 },
 "nbformat": 4,
 "nbformat_minor": 1
}
