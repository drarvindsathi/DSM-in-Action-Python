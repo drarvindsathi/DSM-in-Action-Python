{
 "cells": [
  {
   "cell_type": "markdown",
   "metadata": {},
   "source": [
    "## Step 6 – Deploy Model - Task 1. Scoring Engine\n"
   ]
  },
  {
   "cell_type": "markdown",
   "metadata": {
    "id": "YD2eurJLwsKZ"
   },
   "source": [
    "###Load Libraries\n"
   ]
  },
  {
   "cell_type": "code",
   "execution_count": 1,
   "metadata": {
    "colab": {
     "base_uri": "https://localhost:8080/"
    },
    "id": "d1LEHtf75kyo",
    "outputId": "b5e600d0-9f22-4be3-8e81-e33d5dc9fd98"
   },
   "outputs": [
    {
     "name": "stdout",
     "output_type": "stream",
     "text": [
      "Requirement already satisfied: sklearn in /Users/asathi/anaconda3/lib/python3.7/site-packages (0.0)\n",
      "Requirement already satisfied: scikit-learn in /Users/asathi/anaconda3/lib/python3.7/site-packages (from sklearn) (0.19.2)\n"
     ]
    }
   ],
   "source": [
    "!pip install sklearn --upgrade"
   ]
  },
  {
   "cell_type": "code",
   "execution_count": 2,
   "metadata": {
    "colab": {
     "base_uri": "https://localhost:8080/"
    },
    "id": "zwYvRVQKUgfl",
    "outputId": "e5700372-d05c-47d6-e1ca-8245d8c98a9e"
   },
   "outputs": [
    {
     "name": "stdout",
     "output_type": "stream",
     "text": [
      "Requirement already satisfied: skl2onnx in /Users/asathi/anaconda3/lib/python3.7/site-packages (1.8.0)\r\n",
      "Requirement already satisfied: scikit-learn>=0.19 in /Users/asathi/anaconda3/lib/python3.7/site-packages (from skl2onnx) (0.19.2)\r\n",
      "Requirement already satisfied: numpy>=1.15 in /Users/asathi/anaconda3/lib/python3.7/site-packages (from skl2onnx) (1.20.1)\r\n",
      "Requirement already satisfied: onnx>=1.2.1 in /Users/asathi/anaconda3/lib/python3.7/site-packages (from skl2onnx) (1.8.1)\r\n",
      "Requirement already satisfied: onnxconverter-common<1.9,>=1.6.1 in /Users/asathi/anaconda3/lib/python3.7/site-packages (from skl2onnx) (1.7.0)\r\n",
      "Requirement already satisfied: scipy>=1.0 in /Users/asathi/anaconda3/lib/python3.7/site-packages (from skl2onnx) (1.1.0)\r\n",
      "Requirement already satisfied: protobuf in /Users/asathi/anaconda3/lib/python3.7/site-packages (from skl2onnx) (3.15.6)\r\n",
      "Requirement already satisfied: six in /Users/asathi/anaconda3/lib/python3.7/site-packages (from skl2onnx) (1.11.0)\r\n",
      "Requirement already satisfied: typing-extensions>=3.6.2.1 in /Users/asathi/anaconda3/lib/python3.7/site-packages (from onnx>=1.2.1->skl2onnx) (3.7.4.3)\r\n"
     ]
    }
   ],
   "source": [
    "!pip install skl2onnx"
   ]
  },
  {
   "cell_type": "code",
   "execution_count": 3,
   "metadata": {
    "colab": {
     "base_uri": "https://localhost:8080/"
    },
    "id": "ffu-Lhv4Uy9u",
    "outputId": "6816a153-ca57-4c89-c220-fc88c3c59a1f"
   },
   "outputs": [
    {
     "name": "stdout",
     "output_type": "stream",
     "text": [
      "Requirement already satisfied: onnxruntime in /Users/asathi/anaconda3/lib/python3.7/site-packages (1.7.0)\r\n",
      "Requirement already satisfied: protobuf in /Users/asathi/anaconda3/lib/python3.7/site-packages (from onnxruntime) (3.15.6)\r\n",
      "Requirement already satisfied: numpy>=1.16.6 in /Users/asathi/anaconda3/lib/python3.7/site-packages (from onnxruntime) (1.20.1)\r\n",
      "Requirement already satisfied: six>=1.9 in /Users/asathi/anaconda3/lib/python3.7/site-packages (from protobuf->onnxruntime) (1.11.0)\r\n"
     ]
    }
   ],
   "source": [
    "!pip install onnxruntime"
   ]
  },
  {
   "cell_type": "code",
   "execution_count": 4,
   "metadata": {
    "id": "anaC9xn4Wxeu"
   },
   "outputs": [
    {
     "name": "stderr",
     "output_type": "stream",
     "text": [
      "/Users/asathi/anaconda3/lib/python3.7/site-packages/sklearn/linear_model/least_angle.py:35: DeprecationWarning: `np.float` is a deprecated alias for the builtin `float`. To silence this warning, use `float` by itself. Doing this will not modify any behavior and is safe. If you specifically wanted the numpy scalar type, use `np.float64` here.\n",
      "Deprecated in NumPy 1.20; for more details and guidance: https://numpy.org/devdocs/release/1.20.0-notes.html#deprecations\n",
      "  eps=np.finfo(np.float).eps,\n",
      "/Users/asathi/anaconda3/lib/python3.7/site-packages/sklearn/linear_model/least_angle.py:597: DeprecationWarning: `np.float` is a deprecated alias for the builtin `float`. To silence this warning, use `float` by itself. Doing this will not modify any behavior and is safe. If you specifically wanted the numpy scalar type, use `np.float64` here.\n",
      "Deprecated in NumPy 1.20; for more details and guidance: https://numpy.org/devdocs/release/1.20.0-notes.html#deprecations\n",
      "  eps=np.finfo(np.float).eps, copy_X=True, fit_path=True,\n",
      "/Users/asathi/anaconda3/lib/python3.7/site-packages/sklearn/linear_model/least_angle.py:836: DeprecationWarning: `np.float` is a deprecated alias for the builtin `float`. To silence this warning, use `float` by itself. Doing this will not modify any behavior and is safe. If you specifically wanted the numpy scalar type, use `np.float64` here.\n",
      "Deprecated in NumPy 1.20; for more details and guidance: https://numpy.org/devdocs/release/1.20.0-notes.html#deprecations\n",
      "  eps=np.finfo(np.float).eps, copy_X=True, fit_path=True,\n",
      "/Users/asathi/anaconda3/lib/python3.7/site-packages/sklearn/linear_model/least_angle.py:862: DeprecationWarning: `np.float` is a deprecated alias for the builtin `float`. To silence this warning, use `float` by itself. Doing this will not modify any behavior and is safe. If you specifically wanted the numpy scalar type, use `np.float64` here.\n",
      "Deprecated in NumPy 1.20; for more details and guidance: https://numpy.org/devdocs/release/1.20.0-notes.html#deprecations\n",
      "  eps=np.finfo(np.float).eps, positive=False):\n",
      "/Users/asathi/anaconda3/lib/python3.7/site-packages/sklearn/linear_model/least_angle.py:1074: DeprecationWarning: `np.float` is a deprecated alias for the builtin `float`. To silence this warning, use `float` by itself. Doing this will not modify any behavior and is safe. If you specifically wanted the numpy scalar type, use `np.float64` here.\n",
      "Deprecated in NumPy 1.20; for more details and guidance: https://numpy.org/devdocs/release/1.20.0-notes.html#deprecations\n",
      "  max_n_alphas=1000, n_jobs=1, eps=np.finfo(np.float).eps,\n",
      "/Users/asathi/anaconda3/lib/python3.7/site-packages/sklearn/linear_model/least_angle.py:1306: DeprecationWarning: `np.float` is a deprecated alias for the builtin `float`. To silence this warning, use `float` by itself. Doing this will not modify any behavior and is safe. If you specifically wanted the numpy scalar type, use `np.float64` here.\n",
      "Deprecated in NumPy 1.20; for more details and guidance: https://numpy.org/devdocs/release/1.20.0-notes.html#deprecations\n",
      "  max_n_alphas=1000, n_jobs=1, eps=np.finfo(np.float).eps,\n",
      "/Users/asathi/anaconda3/lib/python3.7/site-packages/sklearn/linear_model/least_angle.py:1442: DeprecationWarning: `np.float` is a deprecated alias for the builtin `float`. To silence this warning, use `float` by itself. Doing this will not modify any behavior and is safe. If you specifically wanted the numpy scalar type, use `np.float64` here.\n",
      "Deprecated in NumPy 1.20; for more details and guidance: https://numpy.org/devdocs/release/1.20.0-notes.html#deprecations\n",
      "  eps=np.finfo(np.float).eps, copy_X=True, positive=False):\n",
      "/Users/asathi/anaconda3/lib/python3.7/site-packages/sklearn/linear_model/randomized_l1.py:152: DeprecationWarning: `np.float` is a deprecated alias for the builtin `float`. To silence this warning, use `float` by itself. Doing this will not modify any behavior and is safe. If you specifically wanted the numpy scalar type, use `np.float64` here.\n",
      "Deprecated in NumPy 1.20; for more details and guidance: https://numpy.org/devdocs/release/1.20.0-notes.html#deprecations\n",
      "  precompute=False, eps=np.finfo(np.float).eps,\n",
      "/Users/asathi/anaconda3/lib/python3.7/site-packages/sklearn/linear_model/randomized_l1.py:318: DeprecationWarning: `np.float` is a deprecated alias for the builtin `float`. To silence this warning, use `float` by itself. Doing this will not modify any behavior and is safe. If you specifically wanted the numpy scalar type, use `np.float64` here.\n",
      "Deprecated in NumPy 1.20; for more details and guidance: https://numpy.org/devdocs/release/1.20.0-notes.html#deprecations\n",
      "  eps=np.finfo(np.float).eps, random_state=None,\n",
      "/Users/asathi/anaconda3/lib/python3.7/site-packages/sklearn/linear_model/randomized_l1.py:575: DeprecationWarning: `np.float` is a deprecated alias for the builtin `float`. To silence this warning, use `float` by itself. Doing this will not modify any behavior and is safe. If you specifically wanted the numpy scalar type, use `np.float64` here.\n",
      "Deprecated in NumPy 1.20; for more details and guidance: https://numpy.org/devdocs/release/1.20.0-notes.html#deprecations\n",
      "  eps=4 * np.finfo(np.float).eps, n_jobs=1,\n",
      "/Users/asathi/anaconda3/lib/python3.7/site-packages/sklearn/decomposition/online_lda.py:31: DeprecationWarning: `np.float` is a deprecated alias for the builtin `float`. To silence this warning, use `float` by itself. Doing this will not modify any behavior and is safe. If you specifically wanted the numpy scalar type, use `np.float64` here.\n",
      "Deprecated in NumPy 1.20; for more details and guidance: https://numpy.org/devdocs/release/1.20.0-notes.html#deprecations\n",
      "  EPS = np.finfo(np.float).eps\n",
      "/Users/asathi/anaconda3/lib/python3.7/site-packages/sklearn/ensemble/weight_boosting.py:29: DeprecationWarning: numpy.core.umath_tests is an internal NumPy module and should not be imported. It will be removed in a future NumPy release.\n",
      "  from numpy.core.umath_tests import inner1d\n",
      "/Users/asathi/anaconda3/lib/python3.7/site-packages/sklearn/ensemble/gradient_boosting.py:34: DeprecationWarning: `np.bool` is a deprecated alias for the builtin `bool`. To silence this warning, use `bool` by itself. Doing this will not modify any behavior and is safe. If you specifically wanted the numpy scalar type, use `np.bool_` here.\n",
      "Deprecated in NumPy 1.20; for more details and guidance: https://numpy.org/devdocs/release/1.20.0-notes.html#deprecations\n",
      "  from ._gradient_boosting import predict_stages\n",
      "/Users/asathi/anaconda3/lib/python3.7/site-packages/sklearn/ensemble/gradient_boosting.py:34: DeprecationWarning: `np.bool` is a deprecated alias for the builtin `bool`. To silence this warning, use `bool` by itself. Doing this will not modify any behavior and is safe. If you specifically wanted the numpy scalar type, use `np.bool_` here.\n",
      "Deprecated in NumPy 1.20; for more details and guidance: https://numpy.org/devdocs/release/1.20.0-notes.html#deprecations\n",
      "  from ._gradient_boosting import predict_stages\n",
      "/Users/asathi/anaconda3/lib/python3.7/site-packages/sklearn/feature_extraction/image.py:167: DeprecationWarning: `np.int` is a deprecated alias for the builtin `int`. To silence this warning, use `int` by itself. Doing this will not modify any behavior and is safe. When replacing `np.int`, you may wish to use e.g. `np.int64` or `np.int32` to specify the precision. If you wish to review your current use, check the release note link for additional information.\n",
      "Deprecated in NumPy 1.20; for more details and guidance: https://numpy.org/devdocs/release/1.20.0-notes.html#deprecations\n",
      "  dtype=np.int):\n"
     ]
    }
   ],
   "source": [
    "import pandas as pd\n",
    "import numpy as np\n",
    "\n",
    "from sklearn.model_selection import train_test_split \n",
    "from sklearn.tree import DecisionTreeClassifier\n",
    "from skl2onnx import convert_sklearn\n",
    "from skl2onnx.common.data_types import FloatTensorType\n",
    "import onnxruntime as rt"
   ]
  },
  {
   "cell_type": "markdown",
   "metadata": {
    "id": "WoaZXloIw1SD"
   },
   "source": [
    "### Set up environment and connect to Google Drive"
   ]
  },
  {
   "cell_type": "code",
   "execution_count": 5,
   "metadata": {
    "id": "bvWqc03VWxe1"
   },
   "outputs": [],
   "source": [
    "using_Google_colab = False\n",
    "using_Anaconda_on_Mac_or_Linux = True\n",
    "using_Anaconda_on_windows = False"
   ]
  },
  {
   "cell_type": "code",
   "execution_count": 6,
   "metadata": {
    "colab": {
     "base_uri": "https://localhost:8080/"
    },
    "id": "-FVWcMQxWxe2",
    "outputId": "3ce0dd7b-314b-4bce-f3b0-aee414ab22a7"
   },
   "outputs": [],
   "source": [
    "if using_Google_colab:\n",
    "    from google.colab import drive\n",
    "    drive.mount('/content/drive')"
   ]
  },
  {
   "cell_type": "markdown",
   "metadata": {
    "id": "dLiLqxI0w9UO"
   },
   "source": [
    "### Upload intermediate classification modeling data for LA County\n",
    "(see Step-4-Develop-Model-Task-4-Classification notebook for details)"
   ]
  },
  {
   "cell_type": "markdown",
   "metadata": {},
   "source": [
    "## DM6.1 Open Notebook and upload the LA county merged data - Activity 1\n"
   ]
  },
  {
   "cell_type": "code",
   "execution_count": 7,
   "metadata": {
    "colab": {
     "base_uri": "https://localhost:8080/",
     "height": 518
    },
    "id": "MZTiuZsmWxe2",
    "outputId": "4a5f6da4-2e5f-4712-d83b-0c2c94124f02"
   },
   "outputs": [
    {
     "data": {
      "text/html": [
       "<div>\n",
       "<style scoped>\n",
       "    .dataframe tbody tr th:only-of-type {\n",
       "        vertical-align: middle;\n",
       "    }\n",
       "\n",
       "    .dataframe tbody tr th {\n",
       "        vertical-align: top;\n",
       "    }\n",
       "\n",
       "    .dataframe thead th {\n",
       "        text-align: right;\n",
       "    }\n",
       "</style>\n",
       "<table border=\"1\" class=\"dataframe\">\n",
       "  <thead>\n",
       "    <tr style=\"text-align: right;\">\n",
       "      <th></th>\n",
       "      <th>Unnamed: 0</th>\n",
       "      <th>countyFIPS</th>\n",
       "      <th>Date</th>\n",
       "      <th>Incremental Cases</th>\n",
       "      <th>population</th>\n",
       "      <th>Month</th>\n",
       "      <th>Case Change</th>\n",
       "      <th>retail_recreation</th>\n",
       "      <th>grocery_pharmacy</th>\n",
       "      <th>parks</th>\n",
       "      <th>...</th>\n",
       "      <th>workplaces</th>\n",
       "      <th>residential</th>\n",
       "      <th>Original Month</th>\n",
       "      <th>delta_retail_recreation</th>\n",
       "      <th>delta_grocery_pharmacy</th>\n",
       "      <th>delta_parks</th>\n",
       "      <th>delta_transit</th>\n",
       "      <th>delta_workplaces</th>\n",
       "      <th>delta_residential</th>\n",
       "      <th>case_direction</th>\n",
       "    </tr>\n",
       "  </thead>\n",
       "  <tbody>\n",
       "    <tr>\n",
       "      <th>0</th>\n",
       "      <td>2</td>\n",
       "      <td>6037</td>\n",
       "      <td>2020-04-30</td>\n",
       "      <td>672.366667</td>\n",
       "      <td>10039107</td>\n",
       "      <td>2020-04-30</td>\n",
       "      <td>575.269892</td>\n",
       "      <td>-21.064516</td>\n",
       "      <td>-1.806452</td>\n",
       "      <td>-19.903226</td>\n",
       "      <td>...</td>\n",
       "      <td>-21.483871</td>\n",
       "      <td>10.935484</td>\n",
       "      <td>2020-03-31</td>\n",
       "      <td>-23.131183</td>\n",
       "      <td>-2.473118</td>\n",
       "      <td>-31.836559</td>\n",
       "      <td>-27.417204</td>\n",
       "      <td>-21.150538</td>\n",
       "      <td>10.935484</td>\n",
       "      <td>1</td>\n",
       "    </tr>\n",
       "    <tr>\n",
       "      <th>1</th>\n",
       "      <td>3</td>\n",
       "      <td>6037</td>\n",
       "      <td>2020-05-31</td>\n",
       "      <td>1026.258065</td>\n",
       "      <td>10039107</td>\n",
       "      <td>2020-05-31</td>\n",
       "      <td>353.891398</td>\n",
       "      <td>-51.766667</td>\n",
       "      <td>-22.066667</td>\n",
       "      <td>-44.900000</td>\n",
       "      <td>...</td>\n",
       "      <td>-48.566667</td>\n",
       "      <td>22.166667</td>\n",
       "      <td>2020-04-30</td>\n",
       "      <td>-30.702151</td>\n",
       "      <td>-20.260215</td>\n",
       "      <td>-24.996774</td>\n",
       "      <td>-25.116129</td>\n",
       "      <td>-27.082796</td>\n",
       "      <td>11.231183</td>\n",
       "      <td>1</td>\n",
       "    </tr>\n",
       "    <tr>\n",
       "      <th>2</th>\n",
       "      <td>4</td>\n",
       "      <td>6037</td>\n",
       "      <td>2020-06-30</td>\n",
       "      <td>1617.766667</td>\n",
       "      <td>10039107</td>\n",
       "      <td>2020-06-30</td>\n",
       "      <td>591.508602</td>\n",
       "      <td>-45.741935</td>\n",
       "      <td>-12.096774</td>\n",
       "      <td>-18.806452</td>\n",
       "      <td>...</td>\n",
       "      <td>-40.709677</td>\n",
       "      <td>17.580645</td>\n",
       "      <td>2020-05-31</td>\n",
       "      <td>6.024731</td>\n",
       "      <td>9.969892</td>\n",
       "      <td>26.093548</td>\n",
       "      <td>8.632258</td>\n",
       "      <td>7.856989</td>\n",
       "      <td>-4.586022</td>\n",
       "      <td>1</td>\n",
       "    </tr>\n",
       "    <tr>\n",
       "      <th>3</th>\n",
       "      <td>5</td>\n",
       "      <td>6037</td>\n",
       "      <td>2020-07-31</td>\n",
       "      <td>2740.387097</td>\n",
       "      <td>10039107</td>\n",
       "      <td>2020-07-31</td>\n",
       "      <td>1122.620430</td>\n",
       "      <td>-34.033333</td>\n",
       "      <td>-10.466667</td>\n",
       "      <td>-8.866667</td>\n",
       "      <td>...</td>\n",
       "      <td>-34.500000</td>\n",
       "      <td>13.833333</td>\n",
       "      <td>2020-06-30</td>\n",
       "      <td>11.708602</td>\n",
       "      <td>1.630108</td>\n",
       "      <td>9.939785</td>\n",
       "      <td>5.434409</td>\n",
       "      <td>6.209677</td>\n",
       "      <td>-3.747312</td>\n",
       "      <td>1</td>\n",
       "    </tr>\n",
       "    <tr>\n",
       "      <th>4</th>\n",
       "      <td>6</td>\n",
       "      <td>6037</td>\n",
       "      <td>2020-08-31</td>\n",
       "      <td>1718.935484</td>\n",
       "      <td>10039107</td>\n",
       "      <td>2020-08-31</td>\n",
       "      <td>-1021.451613</td>\n",
       "      <td>-32.096774</td>\n",
       "      <td>-10.483871</td>\n",
       "      <td>-6.935484</td>\n",
       "      <td>...</td>\n",
       "      <td>-37.580645</td>\n",
       "      <td>13.677419</td>\n",
       "      <td>2020-07-31</td>\n",
       "      <td>1.936559</td>\n",
       "      <td>-0.017204</td>\n",
       "      <td>1.931183</td>\n",
       "      <td>-1.563441</td>\n",
       "      <td>-3.080645</td>\n",
       "      <td>-0.155914</td>\n",
       "      <td>-1</td>\n",
       "    </tr>\n",
       "    <tr>\n",
       "      <th>5</th>\n",
       "      <td>7</td>\n",
       "      <td>6037</td>\n",
       "      <td>2020-09-30</td>\n",
       "      <td>951.033333</td>\n",
       "      <td>10039107</td>\n",
       "      <td>2020-09-30</td>\n",
       "      <td>-767.902151</td>\n",
       "      <td>-31.290323</td>\n",
       "      <td>-12.129032</td>\n",
       "      <td>-7.516129</td>\n",
       "      <td>...</td>\n",
       "      <td>-35.322581</td>\n",
       "      <td>12.129032</td>\n",
       "      <td>2020-08-31</td>\n",
       "      <td>0.806452</td>\n",
       "      <td>-1.645161</td>\n",
       "      <td>-0.580645</td>\n",
       "      <td>1.129032</td>\n",
       "      <td>2.258065</td>\n",
       "      <td>-1.548387</td>\n",
       "      <td>-1</td>\n",
       "    </tr>\n",
       "    <tr>\n",
       "      <th>6</th>\n",
       "      <td>8</td>\n",
       "      <td>6037</td>\n",
       "      <td>2020-10-31</td>\n",
       "      <td>1203.838710</td>\n",
       "      <td>10039107</td>\n",
       "      <td>2020-10-31</td>\n",
       "      <td>252.805376</td>\n",
       "      <td>-30.500000</td>\n",
       "      <td>-13.533333</td>\n",
       "      <td>-16.766667</td>\n",
       "      <td>...</td>\n",
       "      <td>-35.900000</td>\n",
       "      <td>12.066667</td>\n",
       "      <td>2020-09-30</td>\n",
       "      <td>0.790323</td>\n",
       "      <td>-1.404301</td>\n",
       "      <td>-9.250538</td>\n",
       "      <td>-1.198925</td>\n",
       "      <td>-0.577419</td>\n",
       "      <td>-0.062366</td>\n",
       "      <td>1</td>\n",
       "    </tr>\n",
       "    <tr>\n",
       "      <th>7</th>\n",
       "      <td>9</td>\n",
       "      <td>6037</td>\n",
       "      <td>2020-11-30</td>\n",
       "      <td>3110.033333</td>\n",
       "      <td>10039107</td>\n",
       "      <td>2020-11-30</td>\n",
       "      <td>1906.194624</td>\n",
       "      <td>-29.677419</td>\n",
       "      <td>-12.806452</td>\n",
       "      <td>-19.709677</td>\n",
       "      <td>...</td>\n",
       "      <td>-32.290323</td>\n",
       "      <td>11.129032</td>\n",
       "      <td>2020-10-31</td>\n",
       "      <td>0.822581</td>\n",
       "      <td>0.726882</td>\n",
       "      <td>-2.943011</td>\n",
       "      <td>3.456989</td>\n",
       "      <td>3.609677</td>\n",
       "      <td>-0.937634</td>\n",
       "      <td>1</td>\n",
       "    </tr>\n",
       "    <tr>\n",
       "      <th>8</th>\n",
       "      <td>10</td>\n",
       "      <td>6037</td>\n",
       "      <td>2020-12-31</td>\n",
       "      <td>11137.550000</td>\n",
       "      <td>10039107</td>\n",
       "      <td>2020-12-31</td>\n",
       "      <td>8027.516667</td>\n",
       "      <td>-31.300000</td>\n",
       "      <td>-13.933333</td>\n",
       "      <td>-27.733333</td>\n",
       "      <td>...</td>\n",
       "      <td>-34.866667</td>\n",
       "      <td>12.600000</td>\n",
       "      <td>2020-11-30</td>\n",
       "      <td>-1.622581</td>\n",
       "      <td>-1.126882</td>\n",
       "      <td>-8.023656</td>\n",
       "      <td>-5.590323</td>\n",
       "      <td>-2.576344</td>\n",
       "      <td>1.470968</td>\n",
       "      <td>1</td>\n",
       "    </tr>\n",
       "  </tbody>\n",
       "</table>\n",
       "<p>9 rows × 21 columns</p>\n",
       "</div>"
      ],
      "text/plain": [
       "   Unnamed: 0  countyFIPS        Date  Incremental Cases  population  \\\n",
       "0           2        6037  2020-04-30         672.366667    10039107   \n",
       "1           3        6037  2020-05-31        1026.258065    10039107   \n",
       "2           4        6037  2020-06-30        1617.766667    10039107   \n",
       "3           5        6037  2020-07-31        2740.387097    10039107   \n",
       "4           6        6037  2020-08-31        1718.935484    10039107   \n",
       "5           7        6037  2020-09-30         951.033333    10039107   \n",
       "6           8        6037  2020-10-31        1203.838710    10039107   \n",
       "7           9        6037  2020-11-30        3110.033333    10039107   \n",
       "8          10        6037  2020-12-31       11137.550000    10039107   \n",
       "\n",
       "        Month  Case Change  retail_recreation  grocery_pharmacy      parks  \\\n",
       "0  2020-04-30   575.269892         -21.064516         -1.806452 -19.903226   \n",
       "1  2020-05-31   353.891398         -51.766667        -22.066667 -44.900000   \n",
       "2  2020-06-30   591.508602         -45.741935        -12.096774 -18.806452   \n",
       "3  2020-07-31  1122.620430         -34.033333        -10.466667  -8.866667   \n",
       "4  2020-08-31 -1021.451613         -32.096774        -10.483871  -6.935484   \n",
       "5  2020-09-30  -767.902151         -31.290323        -12.129032  -7.516129   \n",
       "6  2020-10-31   252.805376         -30.500000        -13.533333 -16.766667   \n",
       "7  2020-11-30  1906.194624         -29.677419        -12.806452 -19.709677   \n",
       "8  2020-12-31  8027.516667         -31.300000        -13.933333 -27.733333   \n",
       "\n",
       "        ...        workplaces  residential  Original Month  \\\n",
       "0       ...        -21.483871    10.935484      2020-03-31   \n",
       "1       ...        -48.566667    22.166667      2020-04-30   \n",
       "2       ...        -40.709677    17.580645      2020-05-31   \n",
       "3       ...        -34.500000    13.833333      2020-06-30   \n",
       "4       ...        -37.580645    13.677419      2020-07-31   \n",
       "5       ...        -35.322581    12.129032      2020-08-31   \n",
       "6       ...        -35.900000    12.066667      2020-09-30   \n",
       "7       ...        -32.290323    11.129032      2020-10-31   \n",
       "8       ...        -34.866667    12.600000      2020-11-30   \n",
       "\n",
       "  delta_retail_recreation  delta_grocery_pharmacy  delta_parks  delta_transit  \\\n",
       "0              -23.131183               -2.473118   -31.836559     -27.417204   \n",
       "1              -30.702151              -20.260215   -24.996774     -25.116129   \n",
       "2                6.024731                9.969892    26.093548       8.632258   \n",
       "3               11.708602                1.630108     9.939785       5.434409   \n",
       "4                1.936559               -0.017204     1.931183      -1.563441   \n",
       "5                0.806452               -1.645161    -0.580645       1.129032   \n",
       "6                0.790323               -1.404301    -9.250538      -1.198925   \n",
       "7                0.822581                0.726882    -2.943011       3.456989   \n",
       "8               -1.622581               -1.126882    -8.023656      -5.590323   \n",
       "\n",
       "   delta_workplaces  delta_residential  case_direction  \n",
       "0        -21.150538          10.935484               1  \n",
       "1        -27.082796          11.231183               1  \n",
       "2          7.856989          -4.586022               1  \n",
       "3          6.209677          -3.747312               1  \n",
       "4         -3.080645          -0.155914              -1  \n",
       "5          2.258065          -1.548387              -1  \n",
       "6         -0.577419          -0.062366               1  \n",
       "7          3.609677          -0.937634               1  \n",
       "8         -2.576344           1.470968               1  \n",
       "\n",
       "[9 rows x 21 columns]"
      ]
     },
     "execution_count": 7,
     "metadata": {},
     "output_type": "execute_result"
    }
   ],
   "source": [
    "if using_Google_colab:\n",
    "  merged_LA = pd.read_csv('/content/drive/MyDrive/COVID_Project/output/merged_LA.csv')\n",
    "if using_Anaconda_on_Mac_or_Linux:\n",
    "  merged_LA = pd.read_csv('../output/merged_LA.csv')\n",
    "if using_Anaconda_on_windows:\n",
    "  merged_LA = pd.read_csv(r'..\\output\\merged_LA.csv')\n",
    "merged_LA"
   ]
  },
  {
   "cell_type": "markdown",
   "metadata": {},
   "source": [
    "## DM6.2 Prepare inputs and outputs for classification model and develop model - Activity 2\n"
   ]
  },
  {
   "cell_type": "markdown",
   "metadata": {
    "id": "F06LqLKv0oe_"
   },
   "source": [
    "### Prepare and apply the model\n"
   ]
  },
  {
   "cell_type": "code",
   "execution_count": 8,
   "metadata": {
    "colab": {
     "base_uri": "https://localhost:8080/"
    },
    "id": "nsSnyNxE0u-D",
    "outputId": "15cc7887-2384-4f12-e3e1-4cda85db0f06"
   },
   "outputs": [
    {
     "data": {
      "text/plain": [
       "array([[-2.31311828e+01, -2.47311828e+00, -3.18365591e+01,\n",
       "        -2.74172043e+01, -2.11505376e+01,  1.09354839e+01],\n",
       "       [-3.07021505e+01, -2.02602151e+01, -2.49967742e+01,\n",
       "        -2.51161290e+01, -2.70827957e+01,  1.12311828e+01],\n",
       "       [ 6.02473118e+00,  9.96989247e+00,  2.60935484e+01,\n",
       "         8.63225806e+00,  7.85698925e+00, -4.58602151e+00],\n",
       "       [ 1.17086022e+01,  1.63010753e+00,  9.93978495e+00,\n",
       "         5.43440860e+00,  6.20967742e+00, -3.74731183e+00],\n",
       "       [ 1.93655914e+00, -1.72043011e-02,  1.93118280e+00,\n",
       "        -1.56344086e+00, -3.08064516e+00, -1.55913978e-01],\n",
       "       [ 8.06451613e-01, -1.64516129e+00, -5.80645161e-01,\n",
       "         1.12903226e+00,  2.25806452e+00, -1.54838710e+00],\n",
       "       [ 7.90322581e-01, -1.40430108e+00, -9.25053763e+00,\n",
       "        -1.19892473e+00, -5.77419355e-01, -6.23655914e-02],\n",
       "       [ 8.22580645e-01,  7.26881720e-01, -2.94301075e+00,\n",
       "         3.45698925e+00,  3.60967742e+00, -9.37634409e-01],\n",
       "       [-1.62258065e+00, -1.12688172e+00, -8.02365591e+00,\n",
       "        -5.59032258e+00, -2.57634409e+00,  1.47096774e+00]])"
      ]
     },
     "execution_count": 8,
     "metadata": {},
     "output_type": "execute_result"
    }
   ],
   "source": [
    "y_LA = merged_LA['case_direction'].values\n",
    "X_LA = merged_LA[['delta_retail_recreation', \n",
    "               'delta_grocery_pharmacy', \n",
    "               'delta_parks', \n",
    "               'delta_transit', \n",
    "               'delta_workplaces', \n",
    "               'delta_residential']].values\n",
    "X_LA"
   ]
  },
  {
   "cell_type": "code",
   "execution_count": 9,
   "metadata": {
    "colab": {
     "base_uri": "https://localhost:8080/"
    },
    "id": "GZ7dWBxe274C",
    "outputId": "c66ccdd1-60f4-4bab-fe49-7cf2ec39f249"
   },
   "outputs": [
    {
     "data": {
      "text/plain": [
       "array([ 1,  1,  1,  1, -1, -1,  1,  1,  1])"
      ]
     },
     "execution_count": 9,
     "metadata": {},
     "output_type": "execute_result"
    }
   ],
   "source": [
    "y_LA"
   ]
  },
  {
   "cell_type": "code",
   "execution_count": 10,
   "metadata": {
    "id": "IZwvrNLI1k3e"
   },
   "outputs": [
    {
     "name": "stderr",
     "output_type": "stream",
     "text": [
      "/Users/asathi/anaconda3/lib/python3.7/site-packages/sklearn/tree/tree.py:149: DeprecationWarning: `np.int` is a deprecated alias for the builtin `int`. To silence this warning, use `int` by itself. Doing this will not modify any behavior and is safe. When replacing `np.int`, you may wish to use e.g. `np.int64` or `np.int32` to specify the precision. If you wish to review your current use, check the release note link for additional information.\n",
      "Deprecated in NumPy 1.20; for more details and guidance: https://numpy.org/devdocs/release/1.20.0-notes.html#deprecations\n",
      "  y_encoded = np.zeros(y.shape, dtype=np.int)\n"
     ]
    }
   ],
   "source": [
    "decision_tree = DecisionTreeClassifier()\n",
    "X_train_LA, X_test_LA, y_train_LA, y_test_LA = train_test_split(X_LA, \n",
    "                                                                y_LA, \n",
    "                                                                test_size=0.2, \n",
    "                                                                random_state=0)\n",
    "model_LA = decision_tree.fit(X_train_LA, y_train_LA)"
   ]
  },
  {
   "cell_type": "markdown",
   "metadata": {},
   "source": [
    "## Save Test data into CSV file"
   ]
  },
  {
   "cell_type": "code",
   "execution_count": 11,
   "metadata": {},
   "outputs": [
    {
     "data": {
      "text/html": [
       "<div>\n",
       "<style scoped>\n",
       "    .dataframe tbody tr th:only-of-type {\n",
       "        vertical-align: middle;\n",
       "    }\n",
       "\n",
       "    .dataframe tbody tr th {\n",
       "        vertical-align: top;\n",
       "    }\n",
       "\n",
       "    .dataframe thead th {\n",
       "        text-align: right;\n",
       "    }\n",
       "</style>\n",
       "<table border=\"1\" class=\"dataframe\">\n",
       "  <thead>\n",
       "    <tr style=\"text-align: right;\">\n",
       "      <th></th>\n",
       "      <th>Y</th>\n",
       "    </tr>\n",
       "  </thead>\n",
       "  <tbody>\n",
       "    <tr>\n",
       "      <th>0</th>\n",
       "      <td>1</td>\n",
       "    </tr>\n",
       "    <tr>\n",
       "      <th>1</th>\n",
       "      <td>1</td>\n",
       "    </tr>\n",
       "  </tbody>\n",
       "</table>\n",
       "</div>"
      ],
      "text/plain": [
       "   Y\n",
       "0  1\n",
       "1  1"
      ]
     },
     "execution_count": 11,
     "metadata": {},
     "output_type": "execute_result"
    }
   ],
   "source": [
    "df_test_y_LA = pd.DataFrame(y_test_LA, columns=['Y'])\n",
    "df_test_y_LA"
   ]
  },
  {
   "cell_type": "code",
   "execution_count": 12,
   "metadata": {},
   "outputs": [],
   "source": [
    "df_test_y_LA.to_csv('../output/test_y_LA.csv')"
   ]
  },
  {
   "cell_type": "code",
   "execution_count": 13,
   "metadata": {},
   "outputs": [
    {
     "data": {
      "text/html": [
       "<div>\n",
       "<style scoped>\n",
       "    .dataframe tbody tr th:only-of-type {\n",
       "        vertical-align: middle;\n",
       "    }\n",
       "\n",
       "    .dataframe tbody tr th {\n",
       "        vertical-align: top;\n",
       "    }\n",
       "\n",
       "    .dataframe thead th {\n",
       "        text-align: right;\n",
       "    }\n",
       "</style>\n",
       "<table border=\"1\" class=\"dataframe\">\n",
       "  <thead>\n",
       "    <tr style=\"text-align: right;\">\n",
       "      <th></th>\n",
       "      <th>X1</th>\n",
       "      <th>X2</th>\n",
       "      <th>X3</th>\n",
       "      <th>X4</th>\n",
       "      <th>X5</th>\n",
       "      <th>X6</th>\n",
       "    </tr>\n",
       "  </thead>\n",
       "  <tbody>\n",
       "    <tr>\n",
       "      <th>0</th>\n",
       "      <td>0.822581</td>\n",
       "      <td>0.726882</td>\n",
       "      <td>-2.943011</td>\n",
       "      <td>3.456989</td>\n",
       "      <td>3.609677</td>\n",
       "      <td>-0.937634</td>\n",
       "    </tr>\n",
       "    <tr>\n",
       "      <th>1</th>\n",
       "      <td>6.024731</td>\n",
       "      <td>9.969892</td>\n",
       "      <td>26.093548</td>\n",
       "      <td>8.632258</td>\n",
       "      <td>7.856989</td>\n",
       "      <td>-4.586022</td>\n",
       "    </tr>\n",
       "  </tbody>\n",
       "</table>\n",
       "</div>"
      ],
      "text/plain": [
       "         X1        X2         X3        X4        X5        X6\n",
       "0  0.822581  0.726882  -2.943011  3.456989  3.609677 -0.937634\n",
       "1  6.024731  9.969892  26.093548  8.632258  7.856989 -4.586022"
      ]
     },
     "execution_count": 13,
     "metadata": {},
     "output_type": "execute_result"
    }
   ],
   "source": [
    "df_test_X_LA = pd.DataFrame(X_test_LA, columns=['X1', 'X2', 'X3', 'X4', 'X5', 'X6'])\n",
    "df_test_X_LA"
   ]
  },
  {
   "cell_type": "code",
   "execution_count": 14,
   "metadata": {},
   "outputs": [],
   "source": [
    "df_test_X_LA.to_csv('../output/test_X_LA.csv')"
   ]
  },
  {
   "cell_type": "markdown",
   "metadata": {},
   "source": [
    "## DM6.3 - Pack and save model - Activity 3"
   ]
  },
  {
   "cell_type": "code",
   "execution_count": 15,
   "metadata": {
    "id": "LHocuTkT-Txz"
   },
   "outputs": [],
   "source": [
    "# Convert into ONNX format\n",
    "\n",
    "initial_type = [('float_input', FloatTensorType([None, 6]))]\n",
    "onx = convert_sklearn(decision_tree, initial_types=initial_type)\n",
    "with open(\"../output/rf_classification_LA.onnx\", \"wb\") as f:\n",
    "    f.write(onx.SerializeToString())"
   ]
  },
  {
   "cell_type": "markdown",
   "metadata": {},
   "source": [
    "### This model can now be tested in Google Colab  - This is your Activity 4 and listed under Task 2 of  Scoring Engine notbook code"
   ]
  },
  {
   "cell_type": "code",
   "execution_count": null,
   "metadata": {},
   "outputs": [],
   "source": []
  }
 ],
 "metadata": {
  "colab": {
   "collapsed_sections": [],
   "name": "Step-6-Deploy-Model-Task-1-Scoring-Engine.ipynb",
   "provenance": []
  },
  "kernelspec": {
   "display_name": "Python 3",
   "language": "python",
   "name": "python3"
  },
  "language_info": {
   "codemirror_mode": {
    "name": "ipython",
    "version": 3
   },
   "file_extension": ".py",
   "mimetype": "text/x-python",
   "name": "python",
   "nbconvert_exporter": "python",
   "pygments_lexer": "ipython3",
   "version": "3.7.0"
  }
 },
 "nbformat": 4,
 "nbformat_minor": 1
}
