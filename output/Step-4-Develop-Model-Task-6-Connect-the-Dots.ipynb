{
  "nbformat": 4,
  "nbformat_minor": 0,
  "metadata": {
    "colab": {
      "name": "Step-4-Develop-Model-Task-6-Connect-the-Dots.ipynb",
      "provenance": [],
      "collapsed_sections": [],
      "toc_visible": true
    },
    "kernelspec": {
      "name": "python3",
      "display_name": "Python 3"
    }
  },
  "cells": [
    {
      "cell_type": "markdown",
      "metadata": {
        "id": "me5o4Lx0TxLE"
      },
      "source": [
        "### Install Pygeohash library\n",
        "\n",
        "This library provides functions for computing geohash\n"
      ]
    },
    {
      "cell_type": "code",
      "metadata": {
        "colab": {
          "base_uri": "https://localhost:8080/"
        },
        "id": "b9R7tS923Q4O",
        "outputId": "35a0df89-6c09-4d87-b1c2-8cbbe5a84576"
      },
      "source": [
        "!pip install pygeohash"
      ],
      "execution_count": 1,
      "outputs": [
        {
          "output_type": "stream",
          "text": [
            "Collecting pygeohash\n",
            "  Downloading https://files.pythonhosted.org/packages/2c/33/c912fa4476cedcd3ed9cd25c44c163583b92d319860438e6b632f7f42d0c/pygeohash-1.2.0.tar.gz\n",
            "Building wheels for collected packages: pygeohash\n",
            "  Building wheel for pygeohash (setup.py) ... \u001b[?25l\u001b[?25hdone\n",
            "  Created wheel for pygeohash: filename=pygeohash-1.2.0-py2.py3-none-any.whl size=6162 sha256=9fd135060a03f77afc4dffc41d7c935d609d95935e56ea6a56d73eb61b13f812\n",
            "  Stored in directory: /root/.cache/pip/wheels/3f/5f/14/989d83a271207dda28232746d63e737a2dbd88ea7f7a9db807\n",
            "Successfully built pygeohash\n",
            "Installing collected packages: pygeohash\n",
            "Successfully installed pygeohash-1.2.0\n"
          ],
          "name": "stdout"
        }
      ]
    },
    {
      "cell_type": "markdown",
      "metadata": {
        "id": "yjjmQTJvUBRh"
      },
      "source": [
        "### Import pygeohash, networkx and Pandas libraries\n",
        "\n",
        "Pygeohash - functions for converting latitude, longitude to geohash and related distance measurement utilities\n",
        "\n",
        "Networkx - functions for creating, manipulating and querying open source network graphs \n",
        "\n",
        "Pandas - Python functions for table manipuation"
      ]
    },
    {
      "cell_type": "code",
      "metadata": {
        "id": "Og2j0Urk3K2D"
      },
      "source": [
        "import pygeohash as pgh\n",
        "import networkx as nx\n",
        "import pandas as pd"
      ],
      "execution_count": 2,
      "outputs": []
    },
    {
      "cell_type": "markdown",
      "metadata": {
        "id": "uSm82HpWUnuB"
      },
      "source": [
        "### Connect to datasets using Google drive or local files"
      ]
    },
    {
      "cell_type": "code",
      "metadata": {
        "id": "Y8GrIKFJ3YuE"
      },
      "source": [
        "using_Google_colab = True\n",
        "using_Anaconda_on_Mac_or_Linux = False\n",
        "using_Anaconda_on_windows = False"
      ],
      "execution_count": 3,
      "outputs": []
    },
    {
      "cell_type": "code",
      "metadata": {
        "colab": {
          "base_uri": "https://localhost:8080/"
        },
        "id": "1S4wXHrh4AJd",
        "outputId": "c633aec4-8b12-428b-a9ae-f0a03761a55e"
      },
      "source": [
        "if using_Google_colab:\n",
        "    from google.colab import drive\n",
        "    drive.mount('/content/drive')"
      ],
      "execution_count": 4,
      "outputs": [
        {
          "output_type": "stream",
          "text": [
            "Mounted at /content/drive\n"
          ],
          "name": "stdout"
        }
      ]
    },
    {
      "cell_type": "code",
      "metadata": {
        "colab": {
          "base_uri": "https://localhost:8080/",
          "height": 235
        },
        "id": "Hbdkra_c4Jvf",
        "outputId": "58b248d4-041a-498e-a36a-ce034e40e6cf"
      },
      "source": [
        "if using_Google_colab:\n",
        "  state_location = pd.read_csv('/content/drive/MyDrive/COVID_Project/input/state_lat_long.csv')\n",
        "if using_Anaconda_on_Mac_or_Linux:\n",
        "  state_location = pd.read_csv('../input/state_lat_long.csv')\n",
        "if using_Anaconda_on_windows:\n",
        "  state_location = pd.read_csv(r'..\\input\\state_lat_long.csv')\n",
        "state_location.loc[0:5,]"
      ],
      "execution_count": 5,
      "outputs": [
        {
          "output_type": "execute_result",
          "data": {
            "text/html": [
              "<div>\n",
              "<style scoped>\n",
              "    .dataframe tbody tr th:only-of-type {\n",
              "        vertical-align: middle;\n",
              "    }\n",
              "\n",
              "    .dataframe tbody tr th {\n",
              "        vertical-align: top;\n",
              "    }\n",
              "\n",
              "    .dataframe thead th {\n",
              "        text-align: right;\n",
              "    }\n",
              "</style>\n",
              "<table border=\"1\" class=\"dataframe\">\n",
              "  <thead>\n",
              "    <tr style=\"text-align: right;\">\n",
              "      <th></th>\n",
              "      <th>state</th>\n",
              "      <th>latitude</th>\n",
              "      <th>longitude</th>\n",
              "      <th>name</th>\n",
              "    </tr>\n",
              "  </thead>\n",
              "  <tbody>\n",
              "    <tr>\n",
              "      <th>0</th>\n",
              "      <td>AK</td>\n",
              "      <td>63.588753</td>\n",
              "      <td>-154.493062</td>\n",
              "      <td>Alaska</td>\n",
              "    </tr>\n",
              "    <tr>\n",
              "      <th>1</th>\n",
              "      <td>AL</td>\n",
              "      <td>32.318231</td>\n",
              "      <td>-86.902298</td>\n",
              "      <td>Alabama</td>\n",
              "    </tr>\n",
              "    <tr>\n",
              "      <th>2</th>\n",
              "      <td>AR</td>\n",
              "      <td>35.201050</td>\n",
              "      <td>-91.831833</td>\n",
              "      <td>Arkansas</td>\n",
              "    </tr>\n",
              "    <tr>\n",
              "      <th>3</th>\n",
              "      <td>AZ</td>\n",
              "      <td>34.048928</td>\n",
              "      <td>-111.093731</td>\n",
              "      <td>Arizona</td>\n",
              "    </tr>\n",
              "    <tr>\n",
              "      <th>4</th>\n",
              "      <td>CA</td>\n",
              "      <td>36.778261</td>\n",
              "      <td>-119.417932</td>\n",
              "      <td>California</td>\n",
              "    </tr>\n",
              "    <tr>\n",
              "      <th>5</th>\n",
              "      <td>CO</td>\n",
              "      <td>39.550051</td>\n",
              "      <td>-105.782067</td>\n",
              "      <td>Colorado</td>\n",
              "    </tr>\n",
              "  </tbody>\n",
              "</table>\n",
              "</div>"
            ],
            "text/plain": [
              "  state   latitude   longitude        name\n",
              "0    AK  63.588753 -154.493062      Alaska\n",
              "1    AL  32.318231  -86.902298     Alabama\n",
              "2    AR  35.201050  -91.831833    Arkansas\n",
              "3    AZ  34.048928 -111.093731     Arizona\n",
              "4    CA  36.778261 -119.417932  California\n",
              "5    CO  39.550051 -105.782067    Colorado"
            ]
          },
          "metadata": {
            "tags": []
          },
          "execution_count": 5
        }
      ]
    },
    {
      "cell_type": "markdown",
      "metadata": {
        "id": "rqQ623gxVWA6"
      },
      "source": [
        "### Apply a function call to convert Lat, Long to Geohash"
      ]
    },
    {
      "cell_type": "code",
      "metadata": {
        "id": "rxHCyTgl6hZw"
      },
      "source": [
        "def lat_long_to_geohash(lat_long):\n",
        "  return pgh.encode(lat_long[0], lat_long[1])"
      ],
      "execution_count": 6,
      "outputs": []
    },
    {
      "cell_type": "code",
      "metadata": {
        "colab": {
          "base_uri": "https://localhost:8080/",
          "height": 359
        },
        "id": "UGO4CqdJ5UV9",
        "outputId": "db341e18-3d1d-4cc3-a4bd-f49c69c7e536"
      },
      "source": [
        "state_location['geohash'] = state_location[['latitude', \n",
        "                                            'longitude']].apply(lat_long_to_geohash, \n",
        "                                                                axis=1)\n",
        "state_location.iloc[0:10,]"
      ],
      "execution_count": 7,
      "outputs": [
        {
          "output_type": "execute_result",
          "data": {
            "text/html": [
              "<div>\n",
              "<style scoped>\n",
              "    .dataframe tbody tr th:only-of-type {\n",
              "        vertical-align: middle;\n",
              "    }\n",
              "\n",
              "    .dataframe tbody tr th {\n",
              "        vertical-align: top;\n",
              "    }\n",
              "\n",
              "    .dataframe thead th {\n",
              "        text-align: right;\n",
              "    }\n",
              "</style>\n",
              "<table border=\"1\" class=\"dataframe\">\n",
              "  <thead>\n",
              "    <tr style=\"text-align: right;\">\n",
              "      <th></th>\n",
              "      <th>state</th>\n",
              "      <th>latitude</th>\n",
              "      <th>longitude</th>\n",
              "      <th>name</th>\n",
              "      <th>geohash</th>\n",
              "    </tr>\n",
              "  </thead>\n",
              "  <tbody>\n",
              "    <tr>\n",
              "      <th>0</th>\n",
              "      <td>AK</td>\n",
              "      <td>63.588753</td>\n",
              "      <td>-154.493062</td>\n",
              "      <td>Alaska</td>\n",
              "      <td>be61srvx6dxq</td>\n",
              "    </tr>\n",
              "    <tr>\n",
              "      <th>1</th>\n",
              "      <td>AL</td>\n",
              "      <td>32.318231</td>\n",
              "      <td>-86.902298</td>\n",
              "      <td>Alabama</td>\n",
              "      <td>djdpy7remdyj</td>\n",
              "    </tr>\n",
              "    <tr>\n",
              "      <th>2</th>\n",
              "      <td>AR</td>\n",
              "      <td>35.201050</td>\n",
              "      <td>-91.831833</td>\n",
              "      <td>Arkansas</td>\n",
              "      <td>9yq8q24hgpq6</td>\n",
              "    </tr>\n",
              "    <tr>\n",
              "      <th>3</th>\n",
              "      <td>AZ</td>\n",
              "      <td>34.048928</td>\n",
              "      <td>-111.093731</td>\n",
              "      <td>Arizona</td>\n",
              "      <td>9w118n2j2knn</td>\n",
              "    </tr>\n",
              "    <tr>\n",
              "      <th>4</th>\n",
              "      <td>CA</td>\n",
              "      <td>36.778261</td>\n",
              "      <td>-119.417932</td>\n",
              "      <td>California</td>\n",
              "      <td>9qe14x68bsb0</td>\n",
              "    </tr>\n",
              "    <tr>\n",
              "      <th>5</th>\n",
              "      <td>CO</td>\n",
              "      <td>39.550051</td>\n",
              "      <td>-105.782067</td>\n",
              "      <td>Colorado</td>\n",
              "      <td>9xhbbzggepvg</td>\n",
              "    </tr>\n",
              "    <tr>\n",
              "      <th>6</th>\n",
              "      <td>CT</td>\n",
              "      <td>41.603221</td>\n",
              "      <td>-73.087749</td>\n",
              "      <td>Connecticut</td>\n",
              "      <td>drkh8vehk482</td>\n",
              "    </tr>\n",
              "    <tr>\n",
              "      <th>7</th>\n",
              "      <td>DC</td>\n",
              "      <td>38.905985</td>\n",
              "      <td>-77.033418</td>\n",
              "      <td>District of Columbia</td>\n",
              "      <td>dqcjr49gz322</td>\n",
              "    </tr>\n",
              "    <tr>\n",
              "      <th>8</th>\n",
              "      <td>DE</td>\n",
              "      <td>38.910832</td>\n",
              "      <td>-75.527670</td>\n",
              "      <td>Delaware</td>\n",
              "      <td>dqfm37d2j8z6</td>\n",
              "    </tr>\n",
              "    <tr>\n",
              "      <th>9</th>\n",
              "      <td>FL</td>\n",
              "      <td>27.664827</td>\n",
              "      <td>-81.515754</td>\n",
              "      <td>Florida</td>\n",
              "      <td>dhyj3h4p3383</td>\n",
              "    </tr>\n",
              "  </tbody>\n",
              "</table>\n",
              "</div>"
            ],
            "text/plain": [
              "  state   latitude   longitude                  name       geohash\n",
              "0    AK  63.588753 -154.493062                Alaska  be61srvx6dxq\n",
              "1    AL  32.318231  -86.902298               Alabama  djdpy7remdyj\n",
              "2    AR  35.201050  -91.831833              Arkansas  9yq8q24hgpq6\n",
              "3    AZ  34.048928 -111.093731               Arizona  9w118n2j2knn\n",
              "4    CA  36.778261 -119.417932            California  9qe14x68bsb0\n",
              "5    CO  39.550051 -105.782067              Colorado  9xhbbzggepvg\n",
              "6    CT  41.603221  -73.087749           Connecticut  drkh8vehk482\n",
              "7    DC  38.905985  -77.033418  District of Columbia  dqcjr49gz322\n",
              "8    DE  38.910832  -75.527670              Delaware  dqfm37d2j8z6\n",
              "9    FL  27.664827  -81.515754               Florida  dhyj3h4p3383"
            ]
          },
          "metadata": {
            "tags": []
          },
          "execution_count": 7
        }
      ]
    },
    {
      "cell_type": "markdown",
      "metadata": {
        "id": "RGwAoz-UVlWI"
      },
      "source": [
        "### Truncate geohash to first two characters"
      ]
    },
    {
      "cell_type": "code",
      "metadata": {
        "colab": {
          "base_uri": "https://localhost:8080/",
          "height": 359
        },
        "id": "HdBh95xJ86qh",
        "outputId": "473ffabe-d626-4232-d13e-b4cbaaa82e4f"
      },
      "source": [
        "state_location['geohash'] = state_location.geohash.str.slice(stop=2)\n",
        "state_location.iloc[0:10,]"
      ],
      "execution_count": 8,
      "outputs": [
        {
          "output_type": "execute_result",
          "data": {
            "text/html": [
              "<div>\n",
              "<style scoped>\n",
              "    .dataframe tbody tr th:only-of-type {\n",
              "        vertical-align: middle;\n",
              "    }\n",
              "\n",
              "    .dataframe tbody tr th {\n",
              "        vertical-align: top;\n",
              "    }\n",
              "\n",
              "    .dataframe thead th {\n",
              "        text-align: right;\n",
              "    }\n",
              "</style>\n",
              "<table border=\"1\" class=\"dataframe\">\n",
              "  <thead>\n",
              "    <tr style=\"text-align: right;\">\n",
              "      <th></th>\n",
              "      <th>state</th>\n",
              "      <th>latitude</th>\n",
              "      <th>longitude</th>\n",
              "      <th>name</th>\n",
              "      <th>geohash</th>\n",
              "    </tr>\n",
              "  </thead>\n",
              "  <tbody>\n",
              "    <tr>\n",
              "      <th>0</th>\n",
              "      <td>AK</td>\n",
              "      <td>63.588753</td>\n",
              "      <td>-154.493062</td>\n",
              "      <td>Alaska</td>\n",
              "      <td>be</td>\n",
              "    </tr>\n",
              "    <tr>\n",
              "      <th>1</th>\n",
              "      <td>AL</td>\n",
              "      <td>32.318231</td>\n",
              "      <td>-86.902298</td>\n",
              "      <td>Alabama</td>\n",
              "      <td>dj</td>\n",
              "    </tr>\n",
              "    <tr>\n",
              "      <th>2</th>\n",
              "      <td>AR</td>\n",
              "      <td>35.201050</td>\n",
              "      <td>-91.831833</td>\n",
              "      <td>Arkansas</td>\n",
              "      <td>9y</td>\n",
              "    </tr>\n",
              "    <tr>\n",
              "      <th>3</th>\n",
              "      <td>AZ</td>\n",
              "      <td>34.048928</td>\n",
              "      <td>-111.093731</td>\n",
              "      <td>Arizona</td>\n",
              "      <td>9w</td>\n",
              "    </tr>\n",
              "    <tr>\n",
              "      <th>4</th>\n",
              "      <td>CA</td>\n",
              "      <td>36.778261</td>\n",
              "      <td>-119.417932</td>\n",
              "      <td>California</td>\n",
              "      <td>9q</td>\n",
              "    </tr>\n",
              "    <tr>\n",
              "      <th>5</th>\n",
              "      <td>CO</td>\n",
              "      <td>39.550051</td>\n",
              "      <td>-105.782067</td>\n",
              "      <td>Colorado</td>\n",
              "      <td>9x</td>\n",
              "    </tr>\n",
              "    <tr>\n",
              "      <th>6</th>\n",
              "      <td>CT</td>\n",
              "      <td>41.603221</td>\n",
              "      <td>-73.087749</td>\n",
              "      <td>Connecticut</td>\n",
              "      <td>dr</td>\n",
              "    </tr>\n",
              "    <tr>\n",
              "      <th>7</th>\n",
              "      <td>DC</td>\n",
              "      <td>38.905985</td>\n",
              "      <td>-77.033418</td>\n",
              "      <td>District of Columbia</td>\n",
              "      <td>dq</td>\n",
              "    </tr>\n",
              "    <tr>\n",
              "      <th>8</th>\n",
              "      <td>DE</td>\n",
              "      <td>38.910832</td>\n",
              "      <td>-75.527670</td>\n",
              "      <td>Delaware</td>\n",
              "      <td>dq</td>\n",
              "    </tr>\n",
              "    <tr>\n",
              "      <th>9</th>\n",
              "      <td>FL</td>\n",
              "      <td>27.664827</td>\n",
              "      <td>-81.515754</td>\n",
              "      <td>Florida</td>\n",
              "      <td>dh</td>\n",
              "    </tr>\n",
              "  </tbody>\n",
              "</table>\n",
              "</div>"
            ],
            "text/plain": [
              "  state   latitude   longitude                  name geohash\n",
              "0    AK  63.588753 -154.493062                Alaska      be\n",
              "1    AL  32.318231  -86.902298               Alabama      dj\n",
              "2    AR  35.201050  -91.831833              Arkansas      9y\n",
              "3    AZ  34.048928 -111.093731               Arizona      9w\n",
              "4    CA  36.778261 -119.417932            California      9q\n",
              "5    CO  39.550051 -105.782067              Colorado      9x\n",
              "6    CT  41.603221  -73.087749           Connecticut      dr\n",
              "7    DC  38.905985  -77.033418  District of Columbia      dq\n",
              "8    DE  38.910832  -75.527670              Delaware      dq\n",
              "9    FL  27.664827  -81.515754               Florida      dh"
            ]
          },
          "metadata": {
            "tags": []
          },
          "execution_count": 8
        }
      ]
    },
    {
      "cell_type": "markdown",
      "metadata": {
        "id": "gSlx7_kEV2XV"
      },
      "source": [
        "### Find neighbors by sorting the states by 2 character geohash codes attached to each state"
      ]
    },
    {
      "cell_type": "markdown",
      "metadata": {
        "id": "8xqPTiNKWCdR"
      },
      "source": [
        "### Initialize Graph and create state and geohash concepts as nodes"
      ]
    },
    {
      "cell_type": "code",
      "metadata": {
        "id": "fOyOGSfNDBFM"
      },
      "source": [
        "GRAPH_ID = nx.DiGraph()\n",
        "GRAPH_ID.add_node('state')\n",
        "GRAPH_ID.add_node('geohash')"
      ],
      "execution_count": 9,
      "outputs": []
    },
    {
      "cell_type": "markdown",
      "metadata": {
        "id": "JhdS8SEzWOnV"
      },
      "source": [
        "### Create a node for each state"
      ]
    },
    {
      "cell_type": "code",
      "metadata": {
        "id": "GL8rq-ylKwAz"
      },
      "source": [
        "state_list = state_location.state.values\n",
        "for state in state_list:\n",
        "  GRAPH_ID.add_node(state)\n",
        "  GRAPH_ID.add_edge('state', state, label='instance')"
      ],
      "execution_count": 10,
      "outputs": []
    },
    {
      "cell_type": "markdown",
      "metadata": {
        "id": "4gCHHKClWfDE"
      },
      "source": [
        "### Create a list of unique geohash codes and create a node for each geohash"
      ]
    },
    {
      "cell_type": "code",
      "metadata": {
        "id": "KzUVFIDQLk0M"
      },
      "source": [
        "geohash_list = state_location.geohash.values\n",
        "for geohash in geohash_list:\n",
        "  GRAPH_ID.add_node(geohash)\n",
        "  GRAPH_ID.add_edge('geohash', geohash, label='instance')"
      ],
      "execution_count": 11,
      "outputs": []
    },
    {
      "cell_type": "code",
      "metadata": {
        "id": "3HXi1jtNLMIR"
      },
      "source": [
        "df_state_geohash = state_location[['state', 'geohash']]\n",
        "for state_geohash in df_state_geohash.itertuples():\n",
        "    GRAPH_ID.add_edge(state_geohash.state, state_geohash.geohash, \n",
        "                      label='located_at')\n",
        "    GRAPH_ID.add_edge(state_geohash.geohash, state_geohash.state, \n",
        "                      label='locates', \n",
        "                      distance=0.0)"
      ],
      "execution_count": 12,
      "outputs": []
    },
    {
      "cell_type": "markdown",
      "metadata": {
        "id": "7vKnRysJOv-Y"
      },
      "source": [
        "### Find geohash associated with California and Naveda\n"
      ]
    },
    {
      "cell_type": "code",
      "metadata": {
        "colab": {
          "base_uri": "https://localhost:8080/"
        },
        "id": "th1YHdHsVIDa",
        "outputId": "5c683516-0ea1-4918-c516-b7027cbf8ca7"
      },
      "source": [
        "list(GRAPH_ID.neighbors('CA'))"
      ],
      "execution_count": 13,
      "outputs": [
        {
          "output_type": "execute_result",
          "data": {
            "text/plain": [
              "['9q']"
            ]
          },
          "metadata": {
            "tags": []
          },
          "execution_count": 13
        }
      ]
    },
    {
      "cell_type": "code",
      "metadata": {
        "colab": {
          "base_uri": "https://localhost:8080/"
        },
        "id": "RrTXjBV9VbgU",
        "outputId": "882ddc89-852d-42c8-dab5-7ad5e272f321"
      },
      "source": [
        "list(GRAPH_ID.neighbors('NV'))"
      ],
      "execution_count": 14,
      "outputs": [
        {
          "output_type": "execute_result",
          "data": {
            "text/plain": [
              "['9q']"
            ]
          },
          "metadata": {
            "tags": []
          },
          "execution_count": 14
        }
      ]
    },
    {
      "cell_type": "markdown",
      "metadata": {
        "id": "4SiWFFecPHCR"
      },
      "source": [
        "### Find States locsted with geohash '9q'"
      ]
    },
    {
      "cell_type": "code",
      "metadata": {
        "colab": {
          "base_uri": "https://localhost:8080/"
        },
        "id": "v3zjYR4RVgzx",
        "outputId": "b4bf1407-fd83-41eb-9286-5eaa1ae39566"
      },
      "source": [
        "list(GRAPH_ID.neighbors('9q'))"
      ],
      "execution_count": 15,
      "outputs": [
        {
          "output_type": "execute_result",
          "data": {
            "text/plain": [
              "['CA', 'NV']"
            ]
          },
          "metadata": {
            "tags": []
          },
          "execution_count": 15
        }
      ]
    },
    {
      "cell_type": "markdown",
      "metadata": {
        "id": "hIUHCvSBPSuw"
      },
      "source": [
        "### Find states located with geohah for all geohashes"
      ]
    },
    {
      "cell_type": "code",
      "metadata": {
        "colab": {
          "base_uri": "https://localhost:8080/"
        },
        "id": "unzACFJoWAaX",
        "outputId": "1494c362-2bbf-4d99-becd-a7b293961ba6"
      },
      "source": [
        "for geohash in GRAPH_ID['geohash']:\n",
        "  print(\"Geohash: \", geohash, \"States: \", list(GRAPH_ID.neighbors(geohash)))"
      ],
      "execution_count": 16,
      "outputs": [
        {
          "output_type": "stream",
          "text": [
            "Geohash:  be States:  ['AK']\n",
            "Geohash:  dj States:  ['AL', 'GA', 'MS']\n",
            "Geohash:  9y States:  ['AR', 'KS', 'MO', 'OK']\n",
            "Geohash:  9w States:  ['AZ', 'NM', 'UT']\n",
            "Geohash:  9q States:  ['CA', 'NV']\n",
            "Geohash:  9x States:  ['CO', 'WY']\n",
            "Geohash:  dr States:  ['CT', 'MA', 'NH', 'NJ', 'NY', 'PA', 'RI', 'VT']\n",
            "Geohash:  dq States:  ['DC', 'DE', 'MD', 'VA']\n",
            "Geohash:  dh States:  ['FL']\n",
            "Geohash:  8e States:  ['HI']\n",
            "Geohash:  9z States:  ['IA', 'NE', 'SD']\n",
            "Geohash:  9r States:  ['ID', 'OR']\n",
            "Geohash:  dp States:  ['IL', 'IN', 'MI', 'OH', 'WI']\n",
            "Geohash:  dn States:  ['KY', 'NC', 'SC', 'TN', 'WV']\n",
            "Geohash:  9v States:  ['LA', 'TX']\n",
            "Geohash:  f2 States:  ['ME']\n",
            "Geohash:  cb States:  ['MN', 'ND']\n",
            "Geohash:  c8 States:  ['MT']\n",
            "Geohash:  de States:  ['PR']\n",
            "Geohash:  c2 States:  ['WA']\n"
          ],
          "name": "stdout"
        }
      ]
    },
    {
      "cell_type": "markdown",
      "metadata": {
        "id": "srwyqkTORLVV"
      },
      "source": [
        "### Task 7 Activity 1 - Find number of state and geohash nodes in a graph"
      ]
    },
    {
      "cell_type": "code",
      "metadata": {
        "colab": {
          "base_uri": "https://localhost:8080/"
        },
        "id": "goJ2RMcxFAuF",
        "outputId": "ca43fcef-26ee-4312-d8d1-495e943efd1e"
      },
      "source": [
        "len(list (GRAPH_ID.neighbors('geohash')))"
      ],
      "execution_count": 17,
      "outputs": [
        {
          "output_type": "execute_result",
          "data": {
            "text/plain": [
              "20"
            ]
          },
          "metadata": {
            "tags": []
          },
          "execution_count": 17
        }
      ]
    },
    {
      "cell_type": "code",
      "metadata": {
        "colab": {
          "base_uri": "https://localhost:8080/"
        },
        "id": "8SOFj2yjRplz",
        "outputId": "098971cf-a2bc-41c0-a1f6-6c71132e9cb3"
      },
      "source": [
        "len(list (GRAPH_ID.neighbors('state')))"
      ],
      "execution_count": 18,
      "outputs": [
        {
          "output_type": "execute_result",
          "data": {
            "text/plain": [
              "52"
            ]
          },
          "metadata": {
            "tags": []
          },
          "execution_count": 18
        }
      ]
    },
    {
      "cell_type": "markdown",
      "metadata": {
        "id": "sQUUYKEgKmDc"
      },
      "source": [
        "### Connect neighboring geohash codes if the distance is less than 1,000 km"
      ]
    },
    {
      "cell_type": "code",
      "metadata": {
        "id": "WIyPeG5iJhUo"
      },
      "source": [
        "for geohash_1 in geohash_list:\n",
        "  for geohash_2 in geohash_list:\n",
        "    if geohash_1 != geohash_2:\n",
        "      distance = pgh.geohash_haversine_distance(geohash_1, geohash_2)\n",
        "      if distance < 1000000:\n",
        "        GRAPH_ID.add_edge(geohash_1, geohash_2, label='near')"
      ],
      "execution_count": 19,
      "outputs": []
    },
    {
      "cell_type": "markdown",
      "metadata": {
        "id": "rbEYIVBIdd7D"
      },
      "source": [
        "### Find path length from NY to all nodes (states and geohashes)"
      ]
    },
    {
      "cell_type": "code",
      "metadata": {
        "colab": {
          "base_uri": "https://localhost:8080/"
        },
        "id": "FZS8GFS-L-Tl",
        "outputId": "b615dfac-78b8-45e2-bc37-dbd7f5d509bf"
      },
      "source": [
        "neighbor_path_length = nx.single_source_dijkstra_path_length(GRAPH_ID, 'NY', weight='distance')\n",
        "neighbor_path_length"
      ],
      "execution_count": 20,
      "outputs": [
        {
          "output_type": "execute_result",
          "data": {
            "text/plain": [
              "{'9q': 6,\n",
              " '9r': 5,\n",
              " '9v': 5,\n",
              " '9w': 5,\n",
              " '9x': 4,\n",
              " '9y': 4,\n",
              " '9z': 3,\n",
              " 'AL': 4.0,\n",
              " 'AR': 4.0,\n",
              " 'AZ': 5.0,\n",
              " 'CA': 6.0,\n",
              " 'CO': 4.0,\n",
              " 'CT': 1.0,\n",
              " 'DC': 2.0,\n",
              " 'DE': 2.0,\n",
              " 'FL': 5.0,\n",
              " 'GA': 4.0,\n",
              " 'IA': 3.0,\n",
              " 'ID': 5.0,\n",
              " 'IL': 2.0,\n",
              " 'IN': 2.0,\n",
              " 'KS': 4.0,\n",
              " 'KY': 3.0,\n",
              " 'LA': 5.0,\n",
              " 'MA': 1.0,\n",
              " 'MD': 2.0,\n",
              " 'ME': 2.0,\n",
              " 'MI': 2.0,\n",
              " 'MN': 4.0,\n",
              " 'MO': 4.0,\n",
              " 'MS': 4.0,\n",
              " 'MT': 5.0,\n",
              " 'NC': 3.0,\n",
              " 'ND': 4.0,\n",
              " 'NE': 3.0,\n",
              " 'NH': 1.0,\n",
              " 'NJ': 1.0,\n",
              " 'NM': 5.0,\n",
              " 'NV': 6.0,\n",
              " 'NY': 0,\n",
              " 'OH': 2.0,\n",
              " 'OK': 4.0,\n",
              " 'OR': 5.0,\n",
              " 'PA': 1.0,\n",
              " 'RI': 1.0,\n",
              " 'SC': 3.0,\n",
              " 'SD': 3.0,\n",
              " 'TN': 3.0,\n",
              " 'TX': 5.0,\n",
              " 'UT': 5.0,\n",
              " 'VA': 2.0,\n",
              " 'VT': 1.0,\n",
              " 'WA': 6.0,\n",
              " 'WI': 2.0,\n",
              " 'WV': 3.0,\n",
              " 'WY': 4.0,\n",
              " 'c2': 6,\n",
              " 'c8': 5,\n",
              " 'cb': 4,\n",
              " 'dh': 5,\n",
              " 'dj': 4,\n",
              " 'dn': 3,\n",
              " 'dp': 2,\n",
              " 'dq': 2,\n",
              " 'dr': 1,\n",
              " 'f2': 2}"
            ]
          },
          "metadata": {
            "tags": []
          },
          "execution_count": 20
        }
      ]
    },
    {
      "cell_type": "markdown",
      "metadata": {
        "id": "LZ0UzPx2dyVc"
      },
      "source": [
        "### Make a list of all nodes covered in the path length and then find those nodes which are states and less than or equal to 3 hops"
      ]
    },
    {
      "cell_type": "code",
      "metadata": {
        "id": "cglrEuNVMacW"
      },
      "source": [
        "neighbor_states = neighbor_path_length.keys()"
      ],
      "execution_count": 21,
      "outputs": []
    },
    {
      "cell_type": "code",
      "metadata": {
        "colab": {
          "base_uri": "https://localhost:8080/"
        },
        "id": "c24d1JfBHtBm",
        "outputId": "2299dd93-d50a-4858-8fa9-ad5c515b7992"
      },
      "source": [
        "state_list = (list (GRAPH_ID.neighbors('state')))\n",
        "for state in state_list:\n",
        "  if state in neighbor_states:\n",
        "    if neighbor_path_length[state] <= 3:\n",
        "      print(state)\n"
      ],
      "execution_count": 22,
      "outputs": [
        {
          "output_type": "stream",
          "text": [
            "CT\n",
            "DC\n",
            "DE\n",
            "IA\n",
            "IL\n",
            "IN\n",
            "KY\n",
            "MA\n",
            "MD\n",
            "ME\n",
            "MI\n",
            "NC\n",
            "NE\n",
            "NH\n",
            "NJ\n",
            "NY\n",
            "OH\n",
            "PA\n",
            "RI\n",
            "SC\n",
            "SD\n",
            "TN\n",
            "VA\n",
            "VT\n",
            "WI\n",
            "WV\n"
          ],
          "name": "stdout"
        }
      ]
    },
    {
      "cell_type": "code",
      "metadata": {
        "colab": {
          "base_uri": "https://localhost:8080/"
        },
        "id": "mBflHi8qRKSj",
        "outputId": "90b47380-94e7-401d-b82c-5716155def0f"
      },
      "source": [
        "for state_1 in state_list:\n",
        "  neighbor_path_length = nx.single_source_dijkstra_path_length(GRAPH_ID, state_1)\n",
        "  neighbor_state_list = neighbor_path_length.keys()\n",
        "  next_door_list = []\n",
        "  for state_2 in neighbor_state_list:\n",
        "    if state_1 != state_2:\n",
        "      if state_2 in state_list:\n",
        "        if neighbor_path_length[state_2] <=3:\n",
        "          next_door_list.append(state_2)\n",
        "  if next_door_list:\n",
        "    print(state_1, next_door_list)"
      ],
      "execution_count": 23,
      "outputs": [
        {
          "output_type": "stream",
          "text": [
            "AL ['GA', 'MS', 'FL', 'KY', 'NC', 'SC', 'TN', 'WV']\n",
            "AR ['KS', 'MO', 'OK', 'AZ', 'NM', 'UT', 'IA', 'NE', 'SD', 'LA', 'TX']\n",
            "AZ ['NM', 'UT', 'AR', 'KS', 'MO', 'OK', 'CA', 'NV', 'CO', 'WY']\n",
            "CA ['NV', 'AZ', 'NM', 'UT', 'ID', 'OR']\n",
            "CO ['WY', 'AZ', 'NM', 'UT', 'IA', 'NE', 'SD', 'ID', 'OR', 'MT']\n",
            "CT ['MA', 'NH', 'NJ', 'NY', 'PA', 'RI', 'VT', 'DC', 'DE', 'MD', 'VA', 'IL', 'IN', 'MI', 'OH', 'WI', 'ME']\n",
            "DC ['DE', 'MD', 'VA', 'CT', 'MA', 'NH', 'NJ', 'NY', 'PA', 'RI', 'VT', 'KY', 'NC', 'SC', 'TN', 'WV']\n",
            "DE ['DC', 'MD', 'VA', 'CT', 'MA', 'NH', 'NJ', 'NY', 'PA', 'RI', 'VT', 'KY', 'NC', 'SC', 'TN', 'WV']\n",
            "FL ['AL', 'GA', 'MS']\n",
            "GA ['AL', 'MS', 'FL', 'KY', 'NC', 'SC', 'TN', 'WV']\n",
            "IA ['NE', 'SD', 'AR', 'KS', 'MO', 'OK', 'CO', 'WY', 'IL', 'IN', 'MI', 'OH', 'WI', 'MN', 'ND']\n",
            "ID ['OR', 'CA', 'NV', 'CO', 'WY', 'WA']\n",
            "IL ['IN', 'MI', 'OH', 'WI', 'CT', 'MA', 'NH', 'NJ', 'NY', 'PA', 'RI', 'VT', 'IA', 'NE', 'SD', 'KY', 'NC', 'SC', 'TN', 'WV']\n",
            "IN ['IL', 'MI', 'OH', 'WI', 'CT', 'MA', 'NH', 'NJ', 'NY', 'PA', 'RI', 'VT', 'IA', 'NE', 'SD', 'KY', 'NC', 'SC', 'TN', 'WV']\n",
            "KS ['AR', 'MO', 'OK', 'AZ', 'NM', 'UT', 'IA', 'NE', 'SD', 'LA', 'TX']\n",
            "KY ['NC', 'SC', 'TN', 'WV', 'AL', 'GA', 'MS', 'DC', 'DE', 'MD', 'VA', 'IL', 'IN', 'MI', 'OH', 'WI']\n",
            "LA ['TX', 'AR', 'KS', 'MO', 'OK']\n",
            "MA ['CT', 'NH', 'NJ', 'NY', 'PA', 'RI', 'VT', 'DC', 'DE', 'MD', 'VA', 'IL', 'IN', 'MI', 'OH', 'WI', 'ME']\n",
            "MD ['DC', 'DE', 'VA', 'CT', 'MA', 'NH', 'NJ', 'NY', 'PA', 'RI', 'VT', 'KY', 'NC', 'SC', 'TN', 'WV']\n",
            "ME ['CT', 'MA', 'NH', 'NJ', 'NY', 'PA', 'RI', 'VT']\n",
            "MI ['IL', 'IN', 'OH', 'WI', 'CT', 'MA', 'NH', 'NJ', 'NY', 'PA', 'RI', 'VT', 'IA', 'NE', 'SD', 'KY', 'NC', 'SC', 'TN', 'WV']\n",
            "MN ['ND', 'IA', 'NE', 'SD', 'MT']\n",
            "MO ['AR', 'KS', 'OK', 'AZ', 'NM', 'UT', 'IA', 'NE', 'SD', 'LA', 'TX']\n",
            "MS ['AL', 'GA', 'FL', 'KY', 'NC', 'SC', 'TN', 'WV']\n",
            "MT ['CO', 'WY', 'MN', 'ND', 'WA']\n",
            "NC ['KY', 'SC', 'TN', 'WV', 'AL', 'GA', 'MS', 'DC', 'DE', 'MD', 'VA', 'IL', 'IN', 'MI', 'OH', 'WI']\n",
            "ND ['MN', 'IA', 'NE', 'SD', 'MT']\n",
            "NE ['IA', 'SD', 'AR', 'KS', 'MO', 'OK', 'CO', 'WY', 'IL', 'IN', 'MI', 'OH', 'WI', 'MN', 'ND']\n",
            "NH ['CT', 'MA', 'NJ', 'NY', 'PA', 'RI', 'VT', 'DC', 'DE', 'MD', 'VA', 'IL', 'IN', 'MI', 'OH', 'WI', 'ME']\n",
            "NJ ['CT', 'MA', 'NH', 'NY', 'PA', 'RI', 'VT', 'DC', 'DE', 'MD', 'VA', 'IL', 'IN', 'MI', 'OH', 'WI', 'ME']\n",
            "NM ['AZ', 'UT', 'AR', 'KS', 'MO', 'OK', 'CA', 'NV', 'CO', 'WY']\n",
            "NV ['CA', 'AZ', 'NM', 'UT', 'ID', 'OR']\n",
            "NY ['CT', 'MA', 'NH', 'NJ', 'PA', 'RI', 'VT', 'DC', 'DE', 'MD', 'VA', 'IL', 'IN', 'MI', 'OH', 'WI', 'ME']\n",
            "OH ['IL', 'IN', 'MI', 'WI', 'CT', 'MA', 'NH', 'NJ', 'NY', 'PA', 'RI', 'VT', 'IA', 'NE', 'SD', 'KY', 'NC', 'SC', 'TN', 'WV']\n",
            "OK ['AR', 'KS', 'MO', 'AZ', 'NM', 'UT', 'IA', 'NE', 'SD', 'LA', 'TX']\n",
            "OR ['ID', 'CA', 'NV', 'CO', 'WY', 'WA']\n",
            "PA ['CT', 'MA', 'NH', 'NJ', 'NY', 'RI', 'VT', 'DC', 'DE', 'MD', 'VA', 'IL', 'IN', 'MI', 'OH', 'WI', 'ME']\n",
            "RI ['CT', 'MA', 'NH', 'NJ', 'NY', 'PA', 'VT', 'DC', 'DE', 'MD', 'VA', 'IL', 'IN', 'MI', 'OH', 'WI', 'ME']\n",
            "SC ['KY', 'NC', 'TN', 'WV', 'AL', 'GA', 'MS', 'DC', 'DE', 'MD', 'VA', 'IL', 'IN', 'MI', 'OH', 'WI']\n",
            "SD ['IA', 'NE', 'AR', 'KS', 'MO', 'OK', 'CO', 'WY', 'IL', 'IN', 'MI', 'OH', 'WI', 'MN', 'ND']\n",
            "TN ['KY', 'NC', 'SC', 'WV', 'AL', 'GA', 'MS', 'DC', 'DE', 'MD', 'VA', 'IL', 'IN', 'MI', 'OH', 'WI']\n",
            "TX ['LA', 'AR', 'KS', 'MO', 'OK']\n",
            "UT ['AZ', 'NM', 'AR', 'KS', 'MO', 'OK', 'CA', 'NV', 'CO', 'WY']\n",
            "VA ['DC', 'DE', 'MD', 'CT', 'MA', 'NH', 'NJ', 'NY', 'PA', 'RI', 'VT', 'KY', 'NC', 'SC', 'TN', 'WV']\n",
            "VT ['CT', 'MA', 'NH', 'NJ', 'NY', 'PA', 'RI', 'DC', 'DE', 'MD', 'VA', 'IL', 'IN', 'MI', 'OH', 'WI', 'ME']\n",
            "WA ['ID', 'OR', 'MT']\n",
            "WI ['IL', 'IN', 'MI', 'OH', 'CT', 'MA', 'NH', 'NJ', 'NY', 'PA', 'RI', 'VT', 'IA', 'NE', 'SD', 'KY', 'NC', 'SC', 'TN', 'WV']\n",
            "WV ['KY', 'NC', 'SC', 'TN', 'AL', 'GA', 'MS', 'DC', 'DE', 'MD', 'VA', 'IL', 'IN', 'MI', 'OH', 'WI']\n",
            "WY ['CO', 'AZ', 'NM', 'UT', 'IA', 'NE', 'SD', 'ID', 'OR', 'MT']\n"
          ],
          "name": "stdout"
        }
      ]
    },
    {
      "cell_type": "code",
      "metadata": {
        "colab": {
          "base_uri": "https://localhost:8080/"
        },
        "id": "WXblSdaKMo6d",
        "outputId": "676486bc-a872-4229-b319-60cfcbcbfced"
      },
      "source": [
        "nx.dijkstra_path(GRAPH_ID, 'NY', 'CA', weight='distance')"
      ],
      "execution_count": 25,
      "outputs": [
        {
          "output_type": "execute_result",
          "data": {
            "text/plain": [
              "['NY', 'dr', 'dp', '9z', '9y', '9w', '9q', 'CA']"
            ]
          },
          "metadata": {
            "tags": []
          },
          "execution_count": 25
        }
      ]
    },
    {
      "cell_type": "code",
      "metadata": {
        "colab": {
          "base_uri": "https://localhost:8080/"
        },
        "id": "8WYbKR6qVwKp",
        "outputId": "0f4de080-c8da-4e6b-d688-d92335996b13"
      },
      "source": [
        "nx.dijkstra_path(GRAPH_ID, 'OR', 'CA', weight='distance')"
      ],
      "execution_count": 26,
      "outputs": [
        {
          "output_type": "execute_result",
          "data": {
            "text/plain": [
              "['OR', '9r', '9q', 'CA']"
            ]
          },
          "metadata": {
            "tags": []
          },
          "execution_count": 26
        }
      ]
    },
    {
      "cell_type": "code",
      "metadata": {
        "colab": {
          "base_uri": "https://localhost:8080/"
        },
        "id": "zgM81gMmOQUA",
        "outputId": "3218b0fe-0382-4448-8ba4-0396f0587fce"
      },
      "source": [
        "GRAPH_ID.nodes()\n"
      ],
      "execution_count": 27,
      "outputs": [
        {
          "output_type": "execute_result",
          "data": {
            "text/plain": [
              "NodeView(('state', 'geohash', 'AK', 'AL', 'AR', 'AZ', 'CA', 'CO', 'CT', 'DC', 'DE', 'FL', 'GA', 'HI', 'IA', 'ID', 'IL', 'IN', 'KS', 'KY', 'LA', 'MA', 'MD', 'ME', 'MI', 'MN', 'MO', 'MS', 'MT', 'NC', 'ND', 'NE', 'NH', 'NJ', 'NM', 'NV', 'NY', 'OH', 'OK', 'OR', 'PA', 'PR', 'RI', 'SC', 'SD', 'TN', 'TX', 'UT', 'VA', 'VT', 'WA', 'WI', 'WV', 'WY', 'be', 'dj', '9y', '9w', '9q', '9x', 'dr', 'dq', 'dh', '8e', '9z', '9r', 'dp', 'dn', '9v', 'f2', 'cb', 'c8', 'de', 'c2'))"
            ]
          },
          "metadata": {
            "tags": []
          },
          "execution_count": 27
        }
      ]
    },
    {
      "cell_type": "code",
      "metadata": {
        "colab": {
          "base_uri": "https://localhost:8080/"
        },
        "id": "IbFV9hyqRzhZ",
        "outputId": "9f9b35ad-959a-469c-d67d-2b977ff4e8e1"
      },
      "source": [
        "nx.single_source_dijkstra_path_length(GRAPH_ID, 'NY')"
      ],
      "execution_count": 28,
      "outputs": [
        {
          "output_type": "execute_result",
          "data": {
            "text/plain": [
              "{'9q': 6,\n",
              " '9r': 5,\n",
              " '9v': 5,\n",
              " '9w': 5,\n",
              " '9x': 4,\n",
              " '9y': 4,\n",
              " '9z': 3,\n",
              " 'AL': 5,\n",
              " 'AR': 5,\n",
              " 'AZ': 6,\n",
              " 'CA': 7,\n",
              " 'CO': 5,\n",
              " 'CT': 2,\n",
              " 'DC': 3,\n",
              " 'DE': 3,\n",
              " 'FL': 6,\n",
              " 'GA': 5,\n",
              " 'IA': 4,\n",
              " 'ID': 6,\n",
              " 'IL': 3,\n",
              " 'IN': 3,\n",
              " 'KS': 5,\n",
              " 'KY': 4,\n",
              " 'LA': 6,\n",
              " 'MA': 2,\n",
              " 'MD': 3,\n",
              " 'ME': 3,\n",
              " 'MI': 3,\n",
              " 'MN': 5,\n",
              " 'MO': 5,\n",
              " 'MS': 5,\n",
              " 'MT': 6,\n",
              " 'NC': 4,\n",
              " 'ND': 5,\n",
              " 'NE': 4,\n",
              " 'NH': 2,\n",
              " 'NJ': 2,\n",
              " 'NM': 6,\n",
              " 'NV': 7,\n",
              " 'NY': 0,\n",
              " 'OH': 3,\n",
              " 'OK': 5,\n",
              " 'OR': 6,\n",
              " 'PA': 2,\n",
              " 'RI': 2,\n",
              " 'SC': 4,\n",
              " 'SD': 4,\n",
              " 'TN': 4,\n",
              " 'TX': 6,\n",
              " 'UT': 6,\n",
              " 'VA': 3,\n",
              " 'VT': 2,\n",
              " 'WA': 7,\n",
              " 'WI': 3,\n",
              " 'WV': 4,\n",
              " 'WY': 5,\n",
              " 'c2': 6,\n",
              " 'c8': 5,\n",
              " 'cb': 4,\n",
              " 'dh': 5,\n",
              " 'dj': 4,\n",
              " 'dn': 3,\n",
              " 'dp': 2,\n",
              " 'dq': 2,\n",
              " 'dr': 1,\n",
              " 'f2': 2}"
            ]
          },
          "metadata": {
            "tags": []
          },
          "execution_count": 28
        }
      ]
    }
  ]
}